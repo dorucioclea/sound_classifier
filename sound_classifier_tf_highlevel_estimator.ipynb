{
 "cells": [
  {
   "cell_type": "code",
   "execution_count": 88,
   "metadata": {},
   "outputs": [],
   "source": [
    "import numpy as np\n",
    "import tensorflow as tf\n",
    "import matplotlib.pyplot as plt\n",
    "import argparse, os, sys\n",
    "\n",
    "from __future__ import division, print_function, absolute_import\n",
    "from tf_utils import load_features_with_deltas_stacking, random_mini_batches\n",
    "\n",
    "FLAGS = None\n",
    "\n",
    "train_data, test_data, train_labels, test_labels = load_features_with_deltas_stacking()\n",
    "train_data = train_data.astype(np.float32)\n",
    "test_data = test_data.astype(np.float32)\n",
    "\n",
    "tf.logging.set_verbosity(tf.logging.INFO)"
   ]
  },
  {
   "cell_type": "code",
   "execution_count": 89,
   "metadata": {},
   "outputs": [],
   "source": [
    "#Seeding\n",
    "seed = 3\n",
    "\n",
    "# Network Parameters\n",
    "input_h = train_data.shape[1] #Height\n",
    "input_w = train_data.shape[2] #Width\n",
    "num_classes = 2"
   ]
  },
  {
   "cell_type": "code",
   "execution_count": 90,
   "metadata": {},
   "outputs": [],
   "source": [
    "def sound_net(features, labels, mode):\n",
    "\n",
    "    predictions = None\n",
    "    loss = None\n",
    "    train_op = None\n",
    "    eval_metric_ops = None\n",
    "    \n",
    "    # Input Layer\n",
    "    x = tf.reshape(features[\"x\"], [-1, input_h, input_w, 1])\n",
    "\n",
    "    # Convolutional Layer #1\n",
    "    # input shape [batch_size, input_h, input_w, 1]\n",
    "    # output shape [batch_size, input_h, input_w, 80]        \n",
    "    conv1 = tf.layers.conv2d(inputs=x, filters=80, kernel_size=[57, 6], padding=\"same\", \n",
    "                             activation=tf.nn.relu, name='conv1')\n",
    "\n",
    "    # Pooling Layer #1\n",
    "    # First max pooling layer with a 2x2 filter and stride of 2\n",
    "    # input shape [batch_size, input_h, input_w, 80]\n",
    "    # output shape [batch_size, input_h/2, input_w/2, 80]\n",
    "    pool1 = tf.layers.max_pooling2d(inputs=conv1, pool_size=[2, 2], padding=\"same\", strides=2)\n",
    "    pool1 = tf.layers.dropout(inputs=pool1, rate=FLAGS.dropout, training=mode == tf.estimator.ModeKeys.TRAIN, name='pool1')\n",
    "\n",
    "    # Convolutional Layer #2\n",
    "    # input shape [batch_size, input_h/2, input_w/2, 80]\n",
    "    # output shape [batch_size, input_h/2, input_w/2, 80]\n",
    "    conv2 = tf.layers.conv2d(inputs=pool1, filters=80, kernel_size=[1, 3], \n",
    "                             padding=\"same\", activation=tf.nn.relu, name='conv2')\n",
    "    \n",
    "    # Pooling Layer #2\n",
    "    # Input Tensor Shape: [batch_size, input_h/2, input_w/2, 80]\n",
    "    # Output Tensor Shape: [batch_size, input_h/16 input_w/14, 80]    \n",
    "    pool2 = tf.layers.max_pooling2d(inputs=conv2, pool_size=[8, 7], padding=\"same\", \n",
    "                                    strides=[8, 7], name='pool1')\n",
    "\n",
    "    # Fully connected layer #1\n",
    "    # Reshape conv2 output to fit fully connected layer input\n",
    "    pool2_flat = tf.reshape(pool2, [-1, int(input_h/16)*int(input_w/14)*80])    \n",
    "    dense1 = tf.layers.dense(inputs=pool2_flat, units=1024, activation=tf.nn.relu)\n",
    "    dense1 = tf.layers.dropout(inputs=dense1, rate=FLAGS.dropout, training=mode == tf.estimator.ModeKeys.TRAIN)\n",
    "\n",
    "    # Fully connected layer #2\n",
    "    dense2 = tf.layers.dense(inputs=dense1, units=1024, activation=tf.nn.relu)\n",
    "    dense2 = tf.layers.dropout(inputs=dense2, rate=FLAGS.dropout, training=mode == tf.estimator.ModeKeys.TRAIN)    \n",
    "    \n",
    "    # Logits layer\n",
    "    logits = tf.layers.dense(inputs=dense2, units=num_classes)\n",
    "\n",
    "    predictions = {\n",
    "      \"classes\": tf.argmax(input=logits, axis=1),\n",
    "      \"probabilities\": tf.nn.softmax(logits, name=\"softmax_tensor\")\n",
    "    }\n",
    "    if mode == tf.estimator.ModeKeys.PREDICT:\n",
    "        return tf.estimator.EstimatorSpec(mode=mode, predictions=predictions)\n",
    "\n",
    "    # Calculate Loss (for both TRAIN and EVAL modes)\n",
    "    loss = tf.reduce_mean(tf.nn.sparse_softmax_cross_entropy_with_logits(logits=logits, labels=labels), name='loss_tensor')   \n",
    "    correct_prediction = tf.equal(tf.argmax(logits, 1), labels) \n",
    "    accuracy = tf.reduce_mean(tf.cast(correct_prediction, tf.float32), name='accuracy_tensor')\n",
    "    tf.summary.scalar('accuracy', accuracy)\n",
    "        \n",
    "    eval_metric_ops = {\n",
    "      \"accuracy\": tf.metrics.accuracy(labels=labels, predictions=predictions[\"classes\"])}\n",
    "    \n",
    "    # Configure the Training Op (for TRAIN mode)\n",
    "    if mode == tf.estimator.ModeKeys.TRAIN:\n",
    "        optimizer = tf.train.AdamOptimizer(learning_rate=FLAGS.learning_rate)\n",
    "        train_op = optimizer.minimize(\n",
    "            loss=loss,\n",
    "            global_step=tf.train.get_global_step())\n",
    "    return tf.estimator.EstimatorSpec(mode=mode, loss=loss, train_op=train_op, eval_metric_ops=eval_metric_ops)\n",
    "\n",
    "  # Add evaluation metrics (for EVAL mode)\n",
    "    eval_metric_ops = {\n",
    "      \"accuracy\": tf.metrics.accuracy(labels=labels, predictions=predictions[\"classes\"])}\n",
    "    return tf.estimator.EstimatorSpec(mode=mode, loss=loss, eval_metric_ops=eval_metric_ops)"
   ]
  },
  {
   "cell_type": "code",
   "execution_count": 91,
   "metadata": {},
   "outputs": [],
   "source": [
    "def main(_):\n",
    "\n",
    "    # Create the Estimator or warm-start the last one\n",
    "    sound_classifier = tf.estimator.Estimator(\n",
    "      model_fn=sound_net, model_dir=FLAGS.model_folder)\n",
    "    \n",
    "    # Set up logging for predictions\n",
    "    tensors_to_log = {\"loss\": \"loss_tensor\", \"accuracy\": \"accuracy_tensor\"}\n",
    "    logging_hook = tf.train.LoggingTensorHook(tensors_to_log, every_n_iter=100)\n",
    "\n",
    "    # Train the model\n",
    "    train_input_fn = tf.estimator.inputs.numpy_input_fn(\n",
    "      x={\"x\": train_data},\n",
    "      y=train_labels,\n",
    "      batch_size=64,\n",
    "      num_epochs=None,\n",
    "      shuffle=True)\n",
    "    \n",
    "    sound_classifier.train(\n",
    "      input_fn=train_input_fn,\n",
    "      steps=FLAGS.max_steps,\n",
    "      hooks=[logging_hook])\n",
    "\n",
    "    # Evaluate the model and print results\n",
    "    eval_input_fn = tf.estimator.inputs.numpy_input_fn(\n",
    "      x={\"x\": test_data},\n",
    "      y=test_labels,\n",
    "      num_epochs=1,\n",
    "      shuffle=False)\n",
    "    eval_results = sound_classifier.evaluate(input_fn=eval_input_fn)\n",
    "    print(eval_results)"
   ]
  },
  {
   "cell_type": "code",
   "execution_count": 93,
   "metadata": {
    "scrolled": false
   },
   "outputs": [
    {
     "name": "stdout",
     "output_type": "stream",
     "text": [
      "INFO:tensorflow:Using default config.\n",
      "INFO:tensorflow:Using config: {'_model_dir': '/tmp/sound_classifier_model_lr_0_001_dr_0_4_4', '_tf_random_seed': None, '_save_summary_steps': 100, '_save_checkpoints_steps': None, '_save_checkpoints_secs': 600, '_session_config': None, '_keep_checkpoint_max': 5, '_keep_checkpoint_every_n_hours': 10000, '_log_step_count_steps': 100, '_service': None, '_cluster_spec': <tensorflow.python.training.server_lib.ClusterSpec object at 0x7faacb440d68>, '_task_type': 'worker', '_task_id': 0, '_master': '', '_is_chief': True, '_num_ps_replicas': 0, '_num_worker_replicas': 1}\n",
      "INFO:tensorflow:Create CheckpointSaverHook.\n",
      "INFO:tensorflow:Saving checkpoints for 1 into /tmp/sound_classifier_model_lr_0_001_dr_0_4_4/model.ckpt.\n",
      "INFO:tensorflow:loss = 2.0044224, accuracy = 0.484375\n",
      "INFO:tensorflow:loss = 2.0044224, step = 1\n",
      "INFO:tensorflow:global_step/sec: 4.97503\n",
      "INFO:tensorflow:loss = 0.6237169, accuracy = 0.6875 (20.102 sec)\n",
      "INFO:tensorflow:loss = 0.6237169, step = 101 (20.101 sec)\n",
      "INFO:tensorflow:global_step/sec: 4.98797\n",
      "INFO:tensorflow:loss = 0.58841085, accuracy = 0.71875 (20.048 sec)\n",
      "INFO:tensorflow:loss = 0.58841085, step = 201 (20.048 sec)\n",
      "INFO:tensorflow:global_step/sec: 4.98885\n",
      "INFO:tensorflow:loss = 0.6070463, accuracy = 0.703125 (20.045 sec)\n",
      "INFO:tensorflow:loss = 0.6070463, step = 301 (20.045 sec)\n",
      "INFO:tensorflow:global_step/sec: 4.97525\n",
      "INFO:tensorflow:loss = 0.59750354, accuracy = 0.71875 (20.099 sec)\n",
      "INFO:tensorflow:loss = 0.59750354, step = 401 (20.099 sec)\n",
      "INFO:tensorflow:global_step/sec: 4.97768\n",
      "INFO:tensorflow:loss = 0.58522475, accuracy = 0.734375 (20.090 sec)\n",
      "INFO:tensorflow:loss = 0.58522475, step = 501 (20.090 sec)\n",
      "INFO:tensorflow:global_step/sec: 4.98176\n",
      "INFO:tensorflow:loss = 0.5847678, accuracy = 0.734375 (20.073 sec)\n",
      "INFO:tensorflow:loss = 0.5847678, step = 601 (20.073 sec)\n",
      "INFO:tensorflow:global_step/sec: 4.98706\n",
      "INFO:tensorflow:loss = 0.60606074, accuracy = 0.703125 (20.052 sec)\n",
      "INFO:tensorflow:loss = 0.60606074, step = 701 (20.052 sec)\n",
      "INFO:tensorflow:global_step/sec: 4.98931\n",
      "INFO:tensorflow:loss = 0.6527803, accuracy = 0.65625 (20.043 sec)\n",
      "INFO:tensorflow:loss = 0.6527803, step = 801 (20.043 sec)\n",
      "INFO:tensorflow:global_step/sec: 4.98865\n",
      "INFO:tensorflow:loss = 0.64584774, accuracy = 0.65625 (20.045 sec)\n",
      "INFO:tensorflow:loss = 0.64584774, step = 901 (20.045 sec)\n",
      "INFO:tensorflow:Saving checkpoints for 1000 into /tmp/sound_classifier_model_lr_0_001_dr_0_4_4/model.ckpt.\n",
      "INFO:tensorflow:Loss for final step: 0.5785042.\n",
      "INFO:tensorflow:Starting evaluation at 2018-03-21-14:05:21\n",
      "INFO:tensorflow:Restoring parameters from /tmp/sound_classifier_model_lr_0_001_dr_0_4_4/model.ckpt-1000\n",
      "INFO:tensorflow:Finished evaluation at 2018-03-21-14:05:22\n",
      "INFO:tensorflow:Saving dict for global step 1000: accuracy = 0.7093596, global_step = 1000, loss = 0.6064967\n",
      "{'accuracy': 0.7093596, 'loss': 0.6064967, 'global_step': 1000}\n"
     ]
    },
    {
     "ename": "SystemExit",
     "evalue": "",
     "output_type": "error",
     "traceback": [
      "An exception has occurred, use %tb to see the full traceback.\n",
      "\u001b[0;31mSystemExit\u001b[0m\n"
     ]
    },
    {
     "name": "stderr",
     "output_type": "stream",
     "text": [
      "/home/ubuntu/anaconda3/envs/tensorflow_p36/lib/python3.6/site-packages/IPython/core/interactiveshell.py:2918: UserWarning: To exit: use 'exit', 'quit', or Ctrl-D.\n",
      "  warn(\"To exit: use 'exit', 'quit', or Ctrl-D.\", stacklevel=1)\n"
     ]
    }
   ],
   "source": [
    "if __name__ == \"__main__\":\n",
    "    parser = argparse.ArgumentParser()\n",
    "    parser.add_argument('--max_steps', type=int, default=1000,\n",
    "                      help='Number of steps to run trainer.')\n",
    "    parser.add_argument('--learning_rate', type=float, default=0.01,\n",
    "                      help='Initial learning rate')\n",
    "    parser.add_argument('--dropout', type=float, default=0.1,\n",
    "                      help='Keep probability for training dropout.')\n",
    "    parser.add_argument('--model_folder', type=str, default=\"/tmp/sound_classifier_model_lr_0_001_dr_0_4_4\",\n",
    "                      help='Folder where the model will be saved.')\n",
    "    \n",
    "    FLAGS, unparsed = parser.parse_known_args()    \n",
    "    tf.app.run(main=main, argv=[sys.argv[0]] + unparsed)"
   ]
  },
  {
   "cell_type": "code",
   "execution_count": 87,
   "metadata": {},
   "outputs": [],
   "source": [
    "tf.reset_default_graph()"
   ]
  },
  {
   "cell_type": "code",
   "execution_count": 26,
   "metadata": {},
   "outputs": [
    {
     "data": {
      "text/plain": [
       "Namespace(dropout=0.3, learning_rate=0.1, log_dir='/tmp/tensorflow/sound_classifier/logs/sound_classifier', max_steps=10000)"
      ]
     },
     "execution_count": 26,
     "metadata": {},
     "output_type": "execute_result"
    }
   ],
   "source": [
    "FLAGS"
   ]
  },
  {
   "cell_type": "code",
   "execution_count": 39,
   "metadata": {},
   "outputs": [
    {
     "data": {
      "text/plain": [
       "str"
      ]
     },
     "execution_count": 39,
     "metadata": {},
     "output_type": "execute_result"
    }
   ],
   "source": [
    "a = \"/tmp/sound_classifier_model_lr_0_001_dr_0_4\"\n",
    "type(a)"
   ]
  },
  {
   "cell_type": "code",
   "execution_count": null,
   "metadata": {},
   "outputs": [],
   "source": []
  }
 ],
 "metadata": {
  "kernelspec": {
   "display_name": "Python [conda env:tensorflow_p36]",
   "language": "python",
   "name": "conda-env-tensorflow_p36-py"
  },
  "language_info": {
   "codemirror_mode": {
    "name": "ipython",
    "version": 3
   },
   "file_extension": ".py",
   "mimetype": "text/x-python",
   "name": "python",
   "nbconvert_exporter": "python",
   "pygments_lexer": "ipython3",
   "version": "3.6.4"
  }
 },
 "nbformat": 4,
 "nbformat_minor": 2
}
