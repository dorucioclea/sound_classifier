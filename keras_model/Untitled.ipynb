{
 "cells": [
  {
   "cell_type": "code",
   "execution_count": 2,
   "metadata": {},
   "outputs": [],
   "source": [
    "import pickle\n",
    "import pandas as pd\n",
    "\n",
    "def get_class_name(filename):\n",
    "    if 'cat' in filename:\n",
    "        class_name = 0\n",
    "    else:\n",
    "        class_name = 1 \n",
    "    return class_name\n",
    "\n",
    "def load_data(dataset='Train'):    \n",
    "    return pd.read_pickle('../data_processed/' + dataset + '_MELandDeltas.pkl')\n",
    "\n",
    "def get_dimensions(shape='mel_only', frames=None):\n",
    "    if shape=='mel_only':            \n",
    "        mel_height = 128\n",
    "        mel_depth = 1\n",
    "    elif shape=='mel_delta':\n",
    "        mel_height = 256\n",
    "        mel_depth = 1        \n",
    "    elif shape=='mel_delta_stacked':\n",
    "        mel_height = 128\n",
    "        mel_depth = 2        \n",
    "    mel_width = int(frames.shape[0]/mel_height/mel_depth)\n",
    "    return mel_height, mel_width, mel_depth    "
   ]
  },
  {
   "cell_type": "code",
   "execution_count": 207,
   "metadata": {},
   "outputs": [],
   "source": [
    "def extract_mel_spectrograms(dataset='Train', features=['Mel'], shape='mel_only', window_size=28):\n",
    "    \n",
    "    df = load_data(dataset)\n",
    "        \n",
    "    #Where it will be stored\n",
    "    files = []\n",
    "    labels = []\n",
    "    data = []\n",
    "    \n",
    "    #List of file names in the dataset\n",
    "    file_names = list(df.File_id.unique())\n",
    "    \n",
    "    for file in file_names:\n",
    "        \n",
    "        class_name = get_class_name(file)        \n",
    "        #Filter for the file and extract needed features        \n",
    "        frames = np.array(df[df['File_id'] == file][features])\n",
    "        frames = frames.ravel()\n",
    "        frames = np.concatenate(frames)\n",
    "        \n",
    "        #obtain some dimentions about the set to load\n",
    "        mel_height, mel_width, mel_depth = get_dimensions(shape=shape, frames=frames)\n",
    "\n",
    "        #Combine all the frames into a mel_spectrogram\n",
    "        try:\n",
    "            mel = np.reshape(frames, (mel_height, mel_width, mel_depth))\n",
    "        except ValueError:                      \n",
    "            print(file)\n",
    "            mel = np.reshape(frames, (mel_height, mel_width, mel_depth))\n",
    "            \n",
    "        \n",
    "        #each mel needs to be chopped into segments of window_size width\n",
    "        batch_size = int(mel.shape[1] / window_size)\n",
    "        for i in list(range(batch_size)):\n",
    "            labels.append(class_name)\n",
    "            files.append(file)            \n",
    "            data.append(mel[:,i*window_size:(i+1)*window_size])\n",
    "            \n",
    "    return np.array(data, dtype=np.float32), np.array(labels), np.array(files)"
   ]
  },
  {
   "cell_type": "code",
   "execution_count": 214,
   "metadata": {
    "scrolled": false
   },
   "outputs": [],
   "source": [
    "x_train, y_train, f_train = extract_mel_spectrograms(dataset='Train', features=['Mel', 'Mel_deltas'], \n",
    "                                                    shape='mel_delta_stacked', window_size=28)"
   ]
  },
  {
   "cell_type": "code",
   "execution_count": 3,
   "metadata": {},
   "outputs": [],
   "source": [
    "from util_functions import load_features_with_deltas_stacking, random_mini_batches\n",
    "train_data, test_data, train_labels, test_labels = load_features_with_deltas_stacking()"
   ]
  },
  {
   "cell_type": "code",
   "execution_count": 5,
   "metadata": {},
   "outputs": [
    {
     "data": {
      "text/plain": [
       "(0,)"
      ]
     },
     "execution_count": 5,
     "metadata": {},
     "output_type": "execute_result"
    }
   ],
   "source": [
    "test_data.shape"
   ]
  },
  {
   "cell_type": "code",
   "execution_count": 5,
   "metadata": {},
   "outputs": [
    {
     "data": {
      "text/html": [
       "<div>\n",
       "<style scoped>\n",
       "    .dataframe tbody tr th:only-of-type {\n",
       "        vertical-align: middle;\n",
       "    }\n",
       "\n",
       "    .dataframe tbody tr th {\n",
       "        vertical-align: top;\n",
       "    }\n",
       "\n",
       "    .dataframe thead th {\n",
       "        text-align: right;\n",
       "    }\n",
       "</style>\n",
       "<table border=\"1\" class=\"dataframe\">\n",
       "  <thead>\n",
       "    <tr style=\"text-align: right;\">\n",
       "      <th></th>\n",
       "      <th>Mel</th>\n",
       "      <th>File_id</th>\n",
       "      <th>Label</th>\n",
       "      <th>Mel_deltas</th>\n",
       "    </tr>\n",
       "  </thead>\n",
       "  <tbody>\n",
       "    <tr>\n",
       "      <th>0</th>\n",
       "      <td>[0.0128705910035, 0.0110958605329, 0.050497601...</td>\n",
       "      <td>cat_1</td>\n",
       "      <td>0</td>\n",
       "      <td>[-0.00106604305625, -0.00243586016761, -0.0035...</td>\n",
       "    </tr>\n",
       "    <tr>\n",
       "      <th>1</th>\n",
       "      <td>[0.00807935112262, 0.0152217909003, 0.04300330...</td>\n",
       "      <td>cat_1</td>\n",
       "      <td>0</td>\n",
       "      <td>[-0.00106604305625, -0.00243586016761, -0.0035...</td>\n",
       "    </tr>\n",
       "    <tr>\n",
       "      <th>2</th>\n",
       "      <td>[0.00219792173099, 0.048424076075, 0.051875263...</td>\n",
       "      <td>cat_1</td>\n",
       "      <td>0</td>\n",
       "      <td>[-0.00106604305625, -0.00243586016761, -0.0035...</td>\n",
       "    </tr>\n",
       "    <tr>\n",
       "      <th>3</th>\n",
       "      <td>[0.001428269911, 0.051228681218, 0.06248152103...</td>\n",
       "      <td>cat_1</td>\n",
       "      <td>0</td>\n",
       "      <td>[-0.00106604305625, -0.00243586016761, -0.0035...</td>\n",
       "    </tr>\n",
       "    <tr>\n",
       "      <th>4</th>\n",
       "      <td>[0.00153163470852, 0.025880446008, 0.039362137...</td>\n",
       "      <td>cat_1</td>\n",
       "      <td>0</td>\n",
       "      <td>[-0.00106604305625, -0.00243586016761, -0.0035...</td>\n",
       "    </tr>\n",
       "  </tbody>\n",
       "</table>\n",
       "</div>"
      ],
      "text/plain": [
       "                                                 Mel File_id  Label  \\\n",
       "0  [0.0128705910035, 0.0110958605329, 0.050497601...   cat_1      0   \n",
       "1  [0.00807935112262, 0.0152217909003, 0.04300330...   cat_1      0   \n",
       "2  [0.00219792173099, 0.048424076075, 0.051875263...   cat_1      0   \n",
       "3  [0.001428269911, 0.051228681218, 0.06248152103...   cat_1      0   \n",
       "4  [0.00153163470852, 0.025880446008, 0.039362137...   cat_1      0   \n",
       "\n",
       "                                          Mel_deltas  \n",
       "0  [-0.00106604305625, -0.00243586016761, -0.0035...  \n",
       "1  [-0.00106604305625, -0.00243586016761, -0.0035...  \n",
       "2  [-0.00106604305625, -0.00243586016761, -0.0035...  \n",
       "3  [-0.00106604305625, -0.00243586016761, -0.0035...  \n",
       "4  [-0.00106604305625, -0.00243586016761, -0.0035...  "
      ]
     },
     "execution_count": 5,
     "metadata": {},
     "output_type": "execute_result"
    }
   ],
   "source": [
    "df = load_data(dataset='Train')\n",
    "df.head()"
   ]
  },
  {
   "cell_type": "code",
   "execution_count": null,
   "metadata": {},
   "outputs": [],
   "source": []
  }
 ],
 "metadata": {
  "kernelspec": {
   "display_name": "Python 3",
   "language": "python",
   "name": "python3"
  },
  "language_info": {
   "codemirror_mode": {
    "name": "ipython",
    "version": 3
   },
   "file_extension": ".py",
   "mimetype": "text/x-python",
   "name": "python",
   "nbconvert_exporter": "python",
   "pygments_lexer": "ipython3",
   "version": "3.6.2"
  }
 },
 "nbformat": 4,
 "nbformat_minor": 2
}
