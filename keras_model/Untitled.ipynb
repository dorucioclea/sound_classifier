{
 "cells": [
  {
   "cell_type": "code",
   "execution_count": 149,
   "metadata": {},
   "outputs": [],
   "source": [
    "import pickle\n",
    "import pandas as pd\n",
    "\n",
    "def get_class_name(filename):\n",
    "    if 'cat' in filename:\n",
    "        class_name = 0\n",
    "    else:\n",
    "        class_name = 1 \n",
    "    return class_name\n",
    "\n",
    "def load_data(dataset='Train'):    \n",
    "    return pd.read_pickle('../data_processed/' + dataset + '_MELandDeltas.pkl')\n",
    "\n",
    "def get_dimensions(shape='mel_only', frames=None):\n",
    "    if shape=='mel_only':            \n",
    "        mel_height = 128\n",
    "        mel_depth = 1\n",
    "    elif shape=='mel_delta':\n",
    "        mel_height = 256\n",
    "        mel_depth = 1        \n",
    "    elif shape=='mel_delta_stacked':\n",
    "        mel_height = 128\n",
    "        mel_depth = 2        \n",
    "    mel_width = int(frames.shape[0]/mel_height/mel_depth)\n",
    "    return mel_height, mel_width, mel_depth    "
   ]
  },
  {
   "cell_type": "code",
   "execution_count": 207,
   "metadata": {},
   "outputs": [],
   "source": [
    "def extract_mel_spectrograms(dataset='Train', features=['Mel'], shape='mel_only'):\n",
    "    \n",
    "    df = load_data(dataset)\n",
    "        \n",
    "    #Where it will be stored\n",
    "    files = []\n",
    "    labels = []\n",
    "    data = []\n",
    "    \n",
    "    #List of file names in the dataset\n",
    "    file_names = list(df.File_id.unique())\n",
    "    \n",
    "    for file in file_names:\n",
    "        \n",
    "        class_name = get_class_name(file)        \n",
    "        #Filter for the file and extract needed features        \n",
    "        frames = np.array(df[df['File_id'] == file][features])\n",
    "        frames = frames.ravel()\n",
    "        frames = np.concatenate(frames)\n",
    "        \n",
    "        #obtain some dimentions about the set to load\n",
    "        mel_height, mel_width, mel_depth = get_dimensions(shape=shape, frames=frames)\n",
    "\n",
    "        #Combine all the frames into a mel_spectrogram\n",
    "        try:\n",
    "            mel = np.reshape(frames, (mel_height, mel_width, mel_depth))\n",
    "        except ValueError:                      \n",
    "            print(file)\n",
    "            mel = np.reshape(frames, (mel_height, mel_width, mel_depth))\n",
    "            \n",
    "        \n",
    "        #each mel needs to be chopped into segments of 28 width\n",
    "        batch_size = int(mel.shape[1] / 28)\n",
    "        for i in list(range(batch_size)):\n",
    "            labels.append(class_name)\n",
    "            files.append(file)            \n",
    "            data.append(mel[:,i*28:(i+1)*28])\n",
    "            \n",
    "    return np.array(data, dtype=np.float32), np.array(labels), np.array(files)"
   ]
  },
  {
   "cell_type": "code",
   "execution_count": 214,
   "metadata": {
    "scrolled": false
   },
   "outputs": [],
   "source": [
    "x_train, y_train, f_train = extract_mel_spectrograms(dataset='Train', features=['Mel', 'Mel_deltas'], \n",
    "                                                    shape='mel_delta_stacked')"
   ]
  }
 ],
 "metadata": {
  "kernelspec": {
   "display_name": "Python 3",
   "language": "python",
   "name": "python3"
  },
  "language_info": {
   "codemirror_mode": {
    "name": "ipython",
    "version": 3
   },
   "file_extension": ".py",
   "mimetype": "text/x-python",
   "name": "python",
   "nbconvert_exporter": "python",
   "pygments_lexer": "ipython3",
   "version": "3.6.2"
  }
 },
 "nbformat": 4,
 "nbformat_minor": 2
}
