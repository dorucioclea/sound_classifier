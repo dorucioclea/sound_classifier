{
 "cells": [
  {
   "cell_type": "code",
   "execution_count": 1,
   "metadata": {},
   "outputs": [
    {
     "name": "stderr",
     "output_type": "stream",
     "text": [
      "C:\\ProgramData\\Anaconda3\\lib\\site-packages\\h5py\\__init__.py:36: FutureWarning: Conversion of the second argument of issubdtype from `float` to `np.floating` is deprecated. In future, it will be treated as `np.float64 == np.dtype(float).type`.\n",
      "  from ._conv import register_converters as _register_converters\n"
     ]
    }
   ],
   "source": [
    "import tensorflow as tf\n",
    "import numpy as np\n",
    "import matplotlib.pyplot as plt\n",
    "from __future__ import division, print_function, absolute_import\n",
    "from tf_utils import load_features, random_mini_batches\n",
    "\n",
    "train_data, test_data, train_labels, test_labels = load_features()\n",
    "train_data = train_data.astype(np.float32)\n",
    "test_data = test_data.astype(np.float32)"
   ]
  },
  {
   "cell_type": "code",
   "execution_count": 2,
   "metadata": {},
   "outputs": [],
   "source": [
    "#Seeding\n",
    "seed = 3\n",
    "\n",
    "# Network Parameters\n",
    "num_input = 3584 # 128*28\n",
    "num_classes = 2\n",
    "dropout = 0.50\n",
    "\n",
    "# tf Graph input\n",
    "X = tf.placeholder(tf.float32, [None, 128, 28])\n",
    "Y = tf.placeholder(tf.float32, [None, num_classes])\n",
    "keep_prob = tf.placeholder(tf.float32)\n",
    "learning_rate = tf.placeholder(tf.float32)\n",
    "beta1 = tf.Variable(0.9, name = 'beta1', dtype=tf.float32, trainable=False)\n",
    "beta2 = tf.Variable(0.999, name = 'beta2', dtype=tf.float32, trainable=False)\n",
    "epsilon = tf.Variable(1e-08, name = 'epsilon', dtype=tf.float32, trainable=False)"
   ]
  },
  {
   "cell_type": "code",
   "execution_count": 3,
   "metadata": {},
   "outputs": [],
   "source": [
    "# Model\n",
    "def sound_net(x, weights, biases, dropout):\n",
    "    # Input Layer\n",
    "    x = tf.reshape(x, shape=[-1, 128, 28, 1])\n",
    "\n",
    "    # Convolutional Layer #1\n",
    "    #input shape [batch, 128, 28, 1]\n",
    "    #output shape [batch, 128, 28, 80]   \n",
    "    conv1 = tf.layers.conv2d(inputs=x, filters=80, kernel_size=[57, 6], padding=\"same\", activation=tf.nn.relu)\n",
    "\n",
    "    # Pooling Layer #1\n",
    "    # Input Tensor Shape: [batch_size, 128, 28, 80]\n",
    "    # Output Tensor Shape: [batch_size, 64, 14, 80]\n",
    "    pool1 = tf.layers.max_pooling2d(inputs=conv1, pool_size=[2, 2], padding=\"same\", strides=2)\n",
    "    pool1 = tf.nn.dropout(pool1,dropout)\n",
    "    \n",
    "    # Convolutional Layer #2\n",
    "    #input shape [batch_size, 64, 14, 80]\n",
    "    #output shape [batch_size, 64, 14, 80]\n",
    "    conv2 = tf.layers.conv2d(inputs=pool1, filters=80, kernel_size=[1, 3], padding=\"same\", activation=tf.nn.relu)\n",
    "    \n",
    "    # Pooling Layer #2\n",
    "    # Input Tensor Shape: [batch_size, 64, 14, 80]\n",
    "    # Output Tensor Shape: [batch_size, 8, 2, 80]\n",
    "    pool2 = tf.layers.max_pooling2d(inputs=conv2, pool_size=[8, 7], padding=\"same\", strides=[8, 7])\n",
    "\n",
    "    # Fully connected layer\n",
    "    # Reshape conv2 output to fit fully connected layer input\n",
    "    dense1 = tf.reshape(pool2, [-1, weights['wd1'].get_shape().as_list()[0]])\n",
    "    dense1 = tf.add(tf.matmul(dense1, weights['wd1']), biases['bd1'])\n",
    "    dense1 = tf.nn.relu(dense1)\n",
    "    # Apply Dropout\n",
    "    dense1 = tf.nn.dropout(dense1,dropout)\n",
    "   \n",
    "    # Fully connected layer\n",
    "    # Reshape conv2 output to fit fully connected layer input\n",
    "    dense2 = tf.reshape(dense1, [-1, weights['wd2'].get_shape().as_list()[0]])\n",
    "    dense2 = tf.add(tf.matmul(dense2, weights['wd2']), biases['bd2'])\n",
    "    dense2 = tf.nn.relu(dense2)\n",
    "    # Apply Dropout\n",
    "    dense2=tf.nn.dropout(dense2,dropout)\n",
    "   \n",
    "    # Output, class prediction\n",
    "    out = tf.add(tf.matmul(dense2, weights['out']), biases['out'])\n",
    "    return out"
   ]
  },
  {
   "cell_type": "code",
   "execution_count": 4,
   "metadata": {
    "scrolled": false
   },
   "outputs": [],
   "source": [
    "# Store weights and biases\n",
    "weights = {\n",
    "    # 57x6 conv\n",
    "    'wc1': tf.Variable(tf.random_normal([57, 6, 1, 80])),\n",
    "    # 1x3 conv\n",
    "    'wc2': tf.Variable(tf.random_normal([1, 3, 80, 80])),\n",
    "    # fully connected, 8*2*80 inputs (after maxpool), 1024 outputs\n",
    "    'wd1': tf.Variable(tf.random_normal([8*2*80, 1024])),\n",
    "    # fully connected, 1014 inputs (after maxpool), 1024 outputs\n",
    "    'wd2': tf.Variable(tf.random_normal([1024, 1024])),\n",
    "    # 1024 inputs, 2 outputs\n",
    "    'out': tf.Variable(tf.random_normal([1024, num_classes]))\n",
    "}\n",
    "\n",
    "biases = {\n",
    "    'bc1': tf.Variable(tf.random_normal([80])),\n",
    "    'bc2': tf.Variable(tf.random_normal([80])),\n",
    "    'bd1': tf.Variable(tf.random_normal([1024])),\n",
    "    'bd2': tf.Variable(tf.random_normal([1024])),\n",
    "    'out': tf.Variable(tf.random_normal([num_classes]))\n",
    "}\n",
    "\n",
    "# build model\n",
    "logits = sound_net(X, weights, biases, keep_prob)\n",
    "prediction = tf.nn.softmax(logits)\n",
    "\n",
    "# Define loss and optimizer\n",
    "loss_op = tf.reduce_mean(tf.nn.softmax_cross_entropy_with_logits_v2(logits=logits, labels=Y))\n",
    "optimizer = tf.train.AdamOptimizer(learning_rate=learning_rate, beta1=beta1, beta2=beta2, epsilon=epsilon)\n",
    "train_op = optimizer.minimize(loss_op)\n",
    "\n",
    "# Evaluate model\n",
    "correct_pred = tf.equal(tf.argmax(prediction, 1), tf.argmax(Y, 1))\n",
    "accuracy = tf.reduce_mean(tf.cast(correct_pred, tf.float32))\n",
    "\n",
    "# Initialize\n",
    "init = tf.global_variables_initializer()"
   ]
  },
  {
   "cell_type": "code",
   "execution_count": 6,
   "metadata": {},
   "outputs": [],
   "source": [
    "def run_model(num_epochs, train_data, test_labels, minibatch_size, seed, learn_rate, actual_beta1, actual_beta2, actual_epsilon):\n",
    "    costs = []\n",
    "    with tf.Session() as sess:\n",
    "                    \n",
    "        sess.run(init)\n",
    "        #Override defaults for Adam\n",
    "        sess.run(beta1.assign(actual_beta1))\n",
    "        sess.run(beta2.assign(actual_beta2))\n",
    "        sess.run(epsilon.assign(actual_epsilon))        \n",
    "        actual_beta1 = sess.run(beta1)  \n",
    "        actual_beta2 = sess.run(beta2)  \n",
    "        actual_epsilon = sess.run(epsilon)    \n",
    "\n",
    "        for epoch in range(num_epochs):\n",
    "\n",
    "            epoch_cost = 0.\n",
    "            seed = seed + 1\n",
    "            minibatches = random_mini_batches(train_data, train_labels, minibatch_size, seed)\n",
    "\n",
    "            for minibatch in minibatches:\n",
    "                (batch_x, batch_y) = minibatch\n",
    "                #convert to one_hot for labels\n",
    "                batch_y = tf.one_hot(batch_y, num_classes)\n",
    "                batch_y = sess.run(batch_y)\n",
    "                batch_y = batch_y.reshape((batch_y.shape[0], num_classes))\n",
    "\n",
    "                sess.run(train_op, feed_dict={X: batch_x, \n",
    "                                              Y: batch_y, \n",
    "                                              keep_prob: dropout, \n",
    "                                              learning_rate: learn_rate, \n",
    "                                              beta1: actual_beta1,\n",
    "                                              beta2: actual_beta2,\n",
    "                                              epsilon: actual_epsilon})\n",
    "                loss, acc = sess.run([loss_op, accuracy], feed_dict={X: batch_x,\n",
    "                                                                     Y: batch_y,\n",
    "                                                                     keep_prob: 1.0,\n",
    "                                                                     learning_rate: learn_rate, \n",
    "                                                                     beta1: actual_beta1,\n",
    "                                                                     beta2: actual_beta2,\n",
    "                                                                     epsilon: actual_epsilon})\n",
    "                epoch_cost += loss\n",
    "\n",
    "            #After running all minibatches    \n",
    "            if epoch % 10 == 0:\n",
    "                print (\"Cost after epoch %i: %f\" % (epoch, epoch_cost))\n",
    "            if epoch % 5 == 0:\n",
    "                costs.append(epoch_cost)\n",
    "\n",
    "        #Plot loss over time\n",
    "    #     plt.plot(np.squeeze(costs))\n",
    "    #     plt.ylabel('cost')\n",
    "    #     plt.xlabel('iterations (per tens)')\n",
    "    #     plt.title(\"Learning rate =\" + str(learning_rate))\n",
    "    #     plt.show()    \n",
    "\n",
    "        # Test accuracy\n",
    "        test_labels = tf.one_hot(test_labels, num_classes)\n",
    "        test_labels = sess.run(test_labels)    \n",
    "        print(\"Test Accuracy:\", \\\n",
    "            sess.run(accuracy, feed_dict={X: test_data,\n",
    "                                          Y: test_labels,\n",
    "                                          keep_prob: 1.0}))"
   ]
  },
  {
   "cell_type": "code",
   "execution_count": null,
   "metadata": {
    "scrolled": false
   },
   "outputs": [
    {
     "name": "stdout",
     "output_type": "stream",
     "text": [
      "Cost after epoch 0: 173288.839722\n",
      "Cost after epoch 10: 4818.833206\n"
     ]
    }
   ],
   "source": [
    "run_model(num_epochs=100, train_data=train_data, test_labels=test_labels, minibatch_size=64, \n",
    "          learn_rate=0.0001, seed=seed, actual_beta1=0.9, actual_beta2=0.999, actual_epsilon=1e-08)"
   ]
  },
  {
   "cell_type": "markdown",
   "metadata": {},
   "source": [
    "only run line below if you want to reset and restart"
   ]
  },
  {
   "cell_type": "code",
   "execution_count": 230,
   "metadata": {},
   "outputs": [],
   "source": [
    "#tf.reset_default_graph()"
   ]
  },
  {
   "cell_type": "code",
   "execution_count": null,
   "metadata": {},
   "outputs": [],
   "source": []
  }
 ],
 "metadata": {
  "kernelspec": {
   "display_name": "Python 3",
   "language": "python",
   "name": "python3"
  },
  "language_info": {
   "codemirror_mode": {
    "name": "ipython",
    "version": 3
   },
   "file_extension": ".py",
   "mimetype": "text/x-python",
   "name": "python",
   "nbconvert_exporter": "python",
   "pygments_lexer": "ipython3",
   "version": "3.6.3"
  }
 },
 "nbformat": 4,
 "nbformat_minor": 2
}
