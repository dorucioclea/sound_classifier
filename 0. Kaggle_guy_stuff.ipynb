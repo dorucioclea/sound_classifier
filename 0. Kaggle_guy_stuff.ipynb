{
 "cells": [
  {
   "cell_type": "code",
   "execution_count": 29,
   "metadata": {
    "_cell_guid": "b1076dfc-b9ad-4769-8c92-a6c4dae69d19",
    "_uuid": "8f2839f25d086af736a60e9eeb907d3b93b6e0e5",
    "scrolled": false
   },
   "outputs": [
    {
     "name": "stdout",
     "output_type": "stream",
     "text": [
      "['cat_1.wav', 'cat_10.wav', 'cat_100.wav', 'cat_101.wav', 'cat_102.wav', 'cat_103.wav', 'cat_105.wav', 'cat_106.wav', 'cat_107.wav', 'cat_108.wav', 'cat_109.wav', 'cat_11.wav', 'cat_110.wav', 'cat_112.wav', 'cat_113.wav', 'cat_114.wav', 'cat_115.wav', 'cat_116.wav', 'cat_117.wav', 'cat_118.wav', 'cat_119.wav', 'cat_12.wav', 'cat_120.wav', 'cat_121.wav', 'cat_122.wav', 'cat_123.wav', 'cat_124.wav', 'cat_125.wav', 'cat_126.wav', 'cat_127.wav', 'cat_128.wav', 'cat_129.wav', 'cat_13.wav', 'cat_130.wav', 'cat_131.wav', 'cat_132.wav', 'cat_133.wav', 'cat_134.wav', 'cat_135.wav', 'cat_136.wav', 'cat_137.wav', 'cat_138.wav', 'cat_139.wav', 'cat_14.wav', 'cat_140.wav', 'cat_141.wav', 'cat_142.wav', 'cat_143.wav', 'cat_144.wav', 'cat_146.wav', 'cat_147.wav', 'cat_148.wav', 'cat_149.wav', 'cat_15.wav', 'cat_150.wav', 'cat_151.wav', 'cat_152.wav', 'cat_153.wav', 'cat_154.wav', 'cat_155.wav', 'cat_156.wav', 'cat_157.wav', 'cat_158.wav', 'cat_159.wav', 'cat_16.wav', 'cat_160.wav', 'cat_161.wav', 'cat_162.wav', 'cat_163.wav', 'cat_164.wav', 'cat_165.wav', 'cat_166.wav', 'cat_167.wav', 'cat_17.wav', 'cat_18.wav', 'cat_19.wav', 'cat_2.wav', 'cat_20.wav', 'cat_21.wav', 'cat_22.wav', 'cat_23.wav', 'cat_24.wav', 'cat_25.wav', 'cat_26.wav', 'cat_27.wav', 'cat_28.wav', 'cat_29.wav', 'cat_3.wav', 'cat_30.wav', 'cat_31.wav', 'cat_32.wav', 'cat_33.wav', 'cat_34.wav', 'cat_35.wav', 'cat_36.wav', 'cat_37.wav', 'cat_38.wav', 'cat_39.wav', 'cat_4.wav', 'cat_40.wav', 'cat_41.wav', 'cat_42.wav', 'cat_43.wav', 'cat_44.wav', 'cat_45.wav', 'cat_46.wav', 'cat_47.wav', 'cat_48.wav', 'cat_49.wav', 'cat_5.wav', 'cat_50.wav', 'cat_51.wav', 'cat_52.wav', 'cat_53.wav', 'cat_54.wav', 'cat_55.wav', 'cat_56.wav', 'cat_57.wav', 'cat_58.wav', 'cat_59.wav', 'cat_6.wav', 'cat_60.wav', 'cat_61.wav', 'cat_62.wav', 'cat_63.wav', 'cat_64.wav', 'cat_65.wav', 'cat_66.wav', 'cat_67.wav', 'cat_68.wav', 'cat_69.wav', 'cat_7.wav', 'cat_70.wav', 'cat_71.wav', 'cat_72.wav', 'cat_73.wav', 'cat_74.wav', 'cat_75.wav', 'cat_76.wav', 'cat_77.wav', 'cat_78.wav', 'cat_79.wav', 'cat_8.wav', 'cat_80.wav', 'cat_81.wav', 'cat_82.wav', 'cat_83.wav', 'cat_84.wav', 'cat_85.wav', 'cat_86.wav', 'cat_87.wav', 'cat_88.wav', 'cat_89.wav', 'cat_9.wav', 'cat_90.wav', 'cat_91.wav', 'cat_92.wav', 'cat_93.wav', 'cat_94.wav', 'cat_95.wav', 'cat_96.wav', 'cat_97.wav', 'cat_98.wav', 'cat_99.wav', 'dog_barking_0.wav', 'dog_barking_1.wav', 'dog_barking_10.wav', 'dog_barking_100.wav', 'dog_barking_101.wav', 'dog_barking_102.wav', 'dog_barking_103.wav', 'dog_barking_104.wav', 'dog_barking_105.wav', 'dog_barking_106.wav', 'dog_barking_107.wav', 'dog_barking_108.wav', 'dog_barking_109.wav', 'dog_barking_11.wav', 'dog_barking_110.wav', 'dog_barking_111.wav', 'dog_barking_112.wav', 'dog_barking_12.wav', 'dog_barking_13.wav', 'dog_barking_14.wav', 'dog_barking_15.wav', 'dog_barking_16.wav', 'dog_barking_17.wav', 'dog_barking_18.wav', 'dog_barking_19.wav', 'dog_barking_2.wav', 'dog_barking_20.wav', 'dog_barking_21.wav', 'dog_barking_22.wav', 'dog_barking_23.wav', 'dog_barking_24.wav', 'dog_barking_25.wav', 'dog_barking_26.wav', 'dog_barking_27.wav', 'dog_barking_28.wav', 'dog_barking_29.wav', 'dog_barking_3.wav', 'dog_barking_30.wav', 'dog_barking_31.wav', 'dog_barking_32.wav', 'dog_barking_33.wav', 'dog_barking_34.wav', 'dog_barking_35.wav', 'dog_barking_36.wav', 'dog_barking_37.wav', 'dog_barking_38.wav', 'dog_barking_39.wav', 'dog_barking_4.wav', 'dog_barking_40.wav', 'dog_barking_41.wav', 'dog_barking_42.wav', 'dog_barking_43.wav', 'dog_barking_44.wav', 'dog_barking_45.wav', 'dog_barking_46.wav', 'dog_barking_47.wav', 'dog_barking_48.wav', 'dog_barking_49.wav', 'dog_barking_5.wav', 'dog_barking_50.wav', 'dog_barking_51.wav', 'dog_barking_52.wav', 'dog_barking_53.wav', 'dog_barking_54.wav', 'dog_barking_55.wav', 'dog_barking_56.wav', 'dog_barking_57.wav', 'dog_barking_58.wav', 'dog_barking_59.wav', 'dog_barking_6.wav', 'dog_barking_60.wav', 'dog_barking_61.wav', 'dog_barking_62.wav', 'dog_barking_63.wav', 'dog_barking_64.wav', 'dog_barking_65.wav', 'dog_barking_66.wav', 'dog_barking_67.wav', 'dog_barking_68.wav', 'dog_barking_69.wav', 'dog_barking_7.wav', 'dog_barking_70.wav', 'dog_barking_71.wav', 'dog_barking_72.wav', 'dog_barking_73.wav', 'dog_barking_74.wav', 'dog_barking_75.wav', 'dog_barking_76.wav', 'dog_barking_77.wav', 'dog_barking_78.wav', 'dog_barking_79.wav', 'dog_barking_8.wav', 'dog_barking_80.wav', 'dog_barking_81.wav', 'dog_barking_82.wav', 'dog_barking_83.wav', 'dog_barking_84.wav', 'dog_barking_85.wav', 'dog_barking_86.wav', 'dog_barking_87.wav', 'dog_barking_88.wav', 'dog_barking_89.wav', 'dog_barking_9.wav', 'dog_barking_90.wav', 'dog_barking_91.wav', 'dog_barking_92.wav', 'dog_barking_93.wav', 'dog_barking_94.wav', 'dog_barking_95.wav', 'dog_barking_96.wav', 'dog_barking_97.wav', 'dog_barking_98.wav', 'dog_barking_99.wav']\n",
      "processing file:  0\n",
      "processing file:  1\n",
      "processing file:  2\n",
      "processing file:  3\n",
      "processing file:  4\n",
      "processing file:  5\n",
      "processing file:  6\n",
      "processing file:  7\n"
     ]
    },
    {
     "name": "stderr",
     "output_type": "stream",
     "text": [
      "/Library/Frameworks/Python.framework/Versions/3.6/lib/python3.6/site-packages/librosa/core/pitch.py:145: UserWarning: Trying to estimate tuning from empty frequency set.\n",
      "  warnings.warn('Trying to estimate tuning from empty frequency set.')\n"
     ]
    },
    {
     "name": "stdout",
     "output_type": "stream",
     "text": [
      "processing file:  8\n",
      "processing file:  9\n",
      "processing file:  10\n",
      "processing file:  11\n",
      "processing file:  12\n",
      "processing file:  13\n",
      "processing file:  14\n",
      "processing file:  15\n",
      "processing file:  16\n",
      "processing file:  17\n",
      "processing file:  18\n",
      "processing file:  19\n",
      "processing file:  20\n",
      "processing file:  21\n",
      "processing file:  22\n",
      "processing file:  23\n",
      "processing file:  24\n",
      "processing file:  25\n",
      "processing file:  26\n",
      "processing file:  27\n",
      "processing file:  28\n",
      "processing file:  29\n",
      "processing file:  30\n",
      "processing file:  31\n",
      "processing file:  32\n",
      "processing file:  33\n",
      "processing file:  34\n",
      "processing file:  35\n",
      "processing file:  36\n",
      "processing file:  37\n",
      "processing file:  38\n",
      "processing file:  39\n",
      "processing file:  40\n",
      "processing file:  41\n",
      "processing file:  42\n",
      "processing file:  43\n",
      "processing file:  44\n",
      "processing file:  45\n",
      "processing file:  46\n",
      "processing file:  47\n",
      "processing file:  48\n",
      "processing file:  49\n",
      "processing file:  50\n",
      "processing file:  51\n",
      "processing file:  52\n",
      "processing file:  53\n",
      "processing file:  54\n",
      "processing file:  55\n",
      "processing file:  56\n",
      "processing file:  57\n",
      "processing file:  58\n",
      "processing file:  59\n",
      "processing file:  60\n",
      "processing file:  61\n",
      "processing file:  62\n",
      "processing file:  63\n",
      "processing file:  64\n",
      "processing file:  65\n",
      "processing file:  66\n",
      "processing file:  67\n",
      "processing file:  68\n",
      "processing file:  69\n",
      "processing file:  70\n",
      "processing file:  71\n",
      "processing file:  72\n",
      "processing file:  73\n",
      "processing file:  74\n",
      "processing file:  75\n",
      "processing file:  76\n",
      "processing file:  77\n",
      "processing file:  78\n",
      "processing file:  79\n",
      "processing file:  80\n",
      "processing file:  81\n",
      "processing file:  82\n",
      "processing file:  83\n",
      "processing file:  84\n",
      "processing file:  85\n",
      "processing file:  86\n",
      "processing file:  87\n",
      "processing file:  88\n",
      "processing file:  89\n",
      "processing file:  90\n",
      "processing file:  91\n",
      "processing file:  92\n",
      "processing file:  93\n",
      "processing file:  94\n",
      "processing file:  95\n",
      "processing file:  96\n",
      "processing file:  97\n",
      "processing file:  98\n",
      "processing file:  99\n",
      "processing file:  100\n",
      "processing file:  101\n",
      "processing file:  102\n",
      "processing file:  103\n",
      "processing file:  104\n",
      "processing file:  105\n",
      "processing file:  106\n",
      "processing file:  107\n",
      "processing file:  108\n",
      "processing file:  109\n",
      "processing file:  110\n",
      "processing file:  111\n",
      "processing file:  112\n",
      "processing file:  113\n",
      "processing file:  114\n",
      "processing file:  115\n",
      "processing file:  116\n",
      "processing file:  117\n",
      "processing file:  118\n",
      "processing file:  119\n",
      "processing file:  120\n",
      "processing file:  121\n",
      "processing file:  122\n",
      "processing file:  123\n",
      "processing file:  124\n",
      "processing file:  125\n",
      "processing file:  126\n",
      "processing file:  127\n",
      "processing file:  128\n",
      "processing file:  129\n",
      "processing file:  130\n",
      "processing file:  131\n",
      "processing file:  132\n",
      "processing file:  133\n",
      "processing file:  134\n",
      "processing file:  135\n",
      "processing file:  136\n",
      "processing file:  137\n",
      "processing file:  138\n",
      "processing file:  139\n",
      "processing file:  140\n",
      "processing file:  141\n",
      "processing file:  142\n",
      "processing file:  143\n",
      "processing file:  144\n",
      "processing file:  145\n",
      "processing file:  146\n",
      "processing file:  147\n",
      "processing file:  148\n",
      "processing file:  149\n",
      "processing file:  150\n",
      "processing file:  151\n",
      "processing file:  152\n",
      "processing file:  153\n",
      "processing file:  154\n",
      "processing file:  155\n",
      "processing file:  156\n",
      "processing file:  157\n",
      "processing file:  158\n",
      "processing file:  159\n",
      "processing file:  160\n",
      "processing file:  161\n",
      "processing file:  162\n",
      "processing file:  163\n",
      "processing file:  164\n",
      "processing file:  165\n",
      "processing file:  166\n",
      "processing file:  167\n",
      "processing file:  168\n",
      "processing file:  169\n",
      "processing file:  170\n",
      "processing file:  171\n",
      "processing file:  172\n",
      "processing file:  173\n",
      "processing file:  174\n",
      "processing file:  175\n",
      "processing file:  176\n",
      "processing file:  177\n",
      "processing file:  178\n",
      "processing file:  179\n",
      "processing file:  180\n",
      "processing file:  181\n",
      "processing file:  182\n",
      "processing file:  183\n",
      "processing file:  184\n",
      "processing file:  185\n",
      "processing file:  186\n",
      "processing file:  187\n",
      "processing file:  188\n",
      "processing file:  189\n",
      "processing file:  190\n",
      "processing file:  191\n",
      "processing file:  192\n"
     ]
    }
   ],
   "source": [
    "# This Python 3 environment comes with many helpful analytics libraries installed\n",
    "# It is defined by the kaggle/python docker image: https://github.com/kaggle/docker-python\n",
    "# For example, here's several helpful packages to load in \n",
    "\n",
    "import numpy as np # linear algebra\n",
    "import pandas as pd # data processing, CSV file I/O (e.g. pd.read_csv)\n",
    "\n",
    "# Input data files are available in the \"../input/\" directory.\n",
    "# For example, running this (by clicking run or pressing Shift+Enter) will list the files in the input directory\n",
    "\n",
    "import os\n",
    "print(os.listdir(\"data/cats_dogs\"))\n",
    "import numpy as np\n",
    "import librosa\n",
    "import keras\n",
    "from keras.utils import to_categorical\n",
    "from keras.models import load_model\n",
    "from keras.models import Sequential\n",
    "from keras.layers import MaxPooling2D,Conv2D,Flatten,Activation,Dense,Dropout,BatchNormalization\n",
    "from keras.optimizers import Adamax\n",
    "from sklearn.model_selection import train_test_split\n",
    "from sklearn import preprocessing\n",
    "import os  # Manipulate files\n",
    "from  matplotlib import pyplot as plt\n",
    "from IPython.display import clear_output\n",
    "\n",
    "# Any results you write to the current directory are saved as output.\n",
    "\n",
    "# List the wav files\n",
    "ROOT_DIR = 'data/cats_dogs/'\n",
    "X_path = os.listdir(ROOT_DIR)\n",
    "# changing the values into 1 and 0\n",
    "y = [0 if 'cat' in f else 1 for f in X_path]  # change y to int values\n",
    "\n",
    "# Split train and test\n",
    "train_input, test_input, train_target, test_target = train_test_split(X_path, y, test_size=0.30, random_state=1)\n",
    "\n",
    "\n",
    "def extract_feature(file_name):\n",
    "    X, sample_rate = librosa.load(file_name,duration=5)\n",
    "    stft = np.abs(librosa.stft(X))\n",
    "    mfccs = np.mean(librosa.feature.mfcc(y=X, sr=sample_rate, n_mfcc=40).T,axis=0)\n",
    "    chroma = np.mean(librosa.feature.chroma_stft(S=stft, sr=sample_rate).T,axis=0)\n",
    "    mel = np.mean(librosa.feature.melspectrogram(X, sr=sample_rate).T,axis=0)\n",
    "    contrast = np.mean(librosa.feature.spectral_contrast(S=stft, sr=sample_rate).T,axis=0)\n",
    "    tonnetz = np.mean(librosa.feature.tonnetz(y=librosa.effects.harmonic(X),\n",
    "    sr=sample_rate).T,axis=0)\n",
    "    return mfccs,chroma,mel,contrast,tonnetz\n",
    "\n",
    "i = 0\n",
    "X_train = []\n",
    "while i<len(train_input):\n",
    "    print('processing file: ',i)\n",
    "    filename = 'data/cats_dogs/' + train_input[i]\n",
    "    mfccs, chroma, mel, contrast,tonnetz = extract_feature(filename)\n",
    "    features = []\n",
    "    features.append(np.mean(mfccs))\n",
    "    features.append(np.mean(chroma))\n",
    "    features.append(np.mean(mel))\n",
    "    features.append(np.mean(contrast))\n",
    "    features.append(np.mean(tonnetz))\n",
    "    X_train.append(features)\n",
    "    i = i +1"
   ]
  },
  {
   "cell_type": "code",
   "execution_count": 30,
   "metadata": {
    "_cell_guid": "79c7e3d0-c299-4dcb-8224-4455121ee9b0",
    "_uuid": "d629ff2d2480ee46fbb7e2d37f6b5fab8052498a"
   },
   "outputs": [],
   "source": [
    "# converting into an numpy array\n",
    "X_train = np.asarray(X_train)\n",
    "y_train = np.asarray(train_target)"
   ]
  },
  {
   "cell_type": "code",
   "execution_count": 31,
   "metadata": {},
   "outputs": [
    {
     "data": {
      "text/plain": [
       "(193, 5)"
      ]
     },
     "execution_count": 31,
     "metadata": {},
     "output_type": "execute_result"
    }
   ],
   "source": [
    "X_train.shape"
   ]
  },
  {
   "cell_type": "code",
   "execution_count": 32,
   "metadata": {},
   "outputs": [
    {
     "name": "stdout",
     "output_type": "stream",
     "text": [
      "(193,)\n"
     ]
    }
   ],
   "source": [
    "print(y_train.shape)"
   ]
  },
  {
   "cell_type": "code",
   "execution_count": 33,
   "metadata": {},
   "outputs": [
    {
     "name": "stdout",
     "output_type": "stream",
     "text": [
      "_________________________________________________________________\n",
      "Layer (type)                 Output Shape              Param #   \n",
      "=================================================================\n",
      "dense_9 (Dense)              (None, 500)               3000      \n",
      "_________________________________________________________________\n",
      "activation_9 (Activation)    (None, 500)               0         \n",
      "_________________________________________________________________\n",
      "dense_10 (Dense)             (None, 200)               100200    \n",
      "_________________________________________________________________\n",
      "activation_10 (Activation)   (None, 200)               0         \n",
      "_________________________________________________________________\n",
      "dense_11 (Dense)             (None, 100)               20100     \n",
      "_________________________________________________________________\n",
      "activation_11 (Activation)   (None, 100)               0         \n",
      "_________________________________________________________________\n",
      "dense_12 (Dense)             (None, 1)                 101       \n",
      "_________________________________________________________________\n",
      "activation_12 (Activation)   (None, 1)                 0         \n",
      "=================================================================\n",
      "Total params: 123,401\n",
      "Trainable params: 123,401\n",
      "Non-trainable params: 0\n",
      "_________________________________________________________________\n"
     ]
    }
   ],
   "source": [
    "model = Sequential()\n",
    "model.add(Dense(500,input_shape = (5,)))\n",
    "model.add(Activation('relu'))\n",
    "model.add(Dense(200))\n",
    "model.add(Activation('relu'))\n",
    "\n",
    "model.add(Dense(100))\n",
    "model.add(Activation('relu'))\n",
    "\n",
    "model.add(Dense(1))\n",
    "model.add(Activation('sigmoid'))\n",
    "model.summary()"
   ]
  },
  {
   "cell_type": "code",
   "execution_count": 34,
   "metadata": {},
   "outputs": [],
   "source": [
    "model.compile(optimizer = 'adam', metrics=['accuracy'], loss = 'binary_crossentropy')"
   ]
  },
  {
   "cell_type": "code",
   "execution_count": 35,
   "metadata": {},
   "outputs": [],
   "source": [
    "#plot\n",
    "class PlotLosses(keras.callbacks.Callback):\n",
    "    def on_train_begin(self, logs={}):\n",
    "        self.i = 0\n",
    "        self.x = []\n",
    "        self.losses = []\n",
    "        self.val_losses = []\n",
    "        \n",
    "        self.fig = plt.figure()\n",
    "        \n",
    "        self.logs = []\n",
    "\n",
    "    def on_epoch_end(self, epoch, logs={}):\n",
    "        \n",
    "        self.logs.append(logs)\n",
    "        self.x.append(self.i)\n",
    "        self.losses.append(logs.get('loss'))\n",
    "        self.val_losses.append(logs.get('val_loss'))\n",
    "        self.i += 1\n",
    "        \n",
    "        clear_output(wait=True)\n",
    "        plt.plot(self.x, self.losses, label=\"loss\")\n",
    "        plt.plot(self.x, self.val_losses, label=\"val_loss\")\n",
    "        plt.legend()\n",
    "        plt.show();\n",
    "        \n",
    "plot_losses = PlotLosses()"
   ]
  },
  {
   "cell_type": "code",
   "execution_count": 36,
   "metadata": {},
   "outputs": [
    {
     "data": {
      "image/png": "[encoded data removed]",
      "text/plain": [
       "<matplotlib.figure.Figure at 0x12beda3c8>"
      ]
     },
     "metadata": {},
     "output_type": "display_data"
    },
    {
     "data": {
      "text/plain": [
       "<keras.callbacks.History at 0x129c5cf98>"
      ]
     },
     "execution_count": 36,
     "metadata": {},
     "output_type": "execute_result"
    }
   ],
   "source": [
    "#training the model\n",
    "model.fit(X_train,y_train,\n",
    "         epochs  =500,\n",
    "        callbacks = [plot_losses],\n",
    "         verbose= 2)"
   ]
  },
  {
   "cell_type": "code",
   "execution_count": 37,
   "metadata": {},
   "outputs": [
    {
     "name": "stdout",
     "output_type": "stream",
     "text": [
      "processing file:  0\n",
      "processing file:  1\n",
      "processing file:  2\n",
      "processing file:  3\n",
      "processing file:  4\n",
      "processing file:  5\n",
      "processing file:  6\n",
      "processing file:  7\n",
      "processing file:  8\n",
      "processing file:  9\n",
      "processing file:  10\n",
      "processing file:  11\n",
      "processing file:  12\n",
      "processing file:  13\n",
      "processing file:  14\n",
      "processing file:  15\n",
      "processing file:  16\n",
      "processing file:  17\n",
      "processing file:  18\n",
      "processing file:  19\n",
      "processing file:  20\n",
      "processing file:  21\n",
      "processing file:  22\n",
      "processing file:  23\n",
      "processing file:  24\n",
      "processing file:  25\n",
      "processing file:  26\n",
      "processing file:  27\n",
      "processing file:  28\n",
      "processing file:  29\n",
      "processing file:  30\n",
      "processing file:  31\n",
      "processing file:  32\n",
      "processing file:  33\n",
      "processing file:  34\n",
      "processing file:  35\n",
      "processing file:  36\n",
      "processing file:  37\n",
      "processing file:  38\n",
      "processing file:  39\n",
      "processing file:  40\n",
      "processing file:  41\n",
      "processing file:  42\n",
      "processing file:  43\n",
      "processing file:  44\n",
      "processing file:  45\n",
      "processing file:  46\n",
      "processing file:  47\n",
      "processing file:  48\n",
      "processing file:  49\n",
      "processing file:  50\n",
      "processing file:  51\n",
      "processing file:  52\n",
      "processing file:  53\n",
      "processing file:  54\n",
      "processing file:  55\n",
      "processing file:  56\n",
      "processing file:  57\n",
      "processing file:  58\n",
      "processing file:  59\n",
      "processing file:  60\n",
      "processing file:  61\n",
      "processing file:  62\n",
      "processing file:  63\n",
      "processing file:  64\n",
      "processing file:  65\n",
      "processing file:  66\n",
      "processing file:  67\n",
      "processing file:  68\n",
      "processing file:  69\n",
      "processing file:  70\n",
      "processing file:  71\n",
      "processing file:  72\n",
      "processing file:  73\n",
      "processing file:  74\n",
      "processing file:  75\n",
      "processing file:  76\n",
      "processing file:  77\n",
      "processing file:  78\n",
      "processing file:  79\n",
      "processing file:  80\n",
      "processing file:  81\n",
      "processing file:  82\n",
      "processing file:  83\n"
     ]
    }
   ],
   "source": [
    "i = 0\n",
    "X_test = []\n",
    "while i<len(test_input):\n",
    "    print('processing file: ',i)\n",
    "    filename = 'data/cats_dogs/' + test_input[i]\n",
    "    mfccs, chroma, mel, contrast,tonnetz = extract_feature(filename)\n",
    "    features = []\n",
    "    features.append(np.mean(mfccs))\n",
    "    features.append(np.mean(chroma))\n",
    "    features.append(np.mean(mel))\n",
    "    features.append(np.mean(contrast))\n",
    "    features.append(np.mean(tonnetz))\n",
    "    X_test.append(features)\n",
    "    i = i +1\n",
    "X_test = np.asarray(X_test)"
   ]
  },
  {
   "cell_type": "code",
   "execution_count": 38,
   "metadata": {},
   "outputs": [],
   "source": [
    "predicted = model.predict(X_test)"
   ]
  },
  {
   "cell_type": "code",
   "execution_count": 39,
   "metadata": {},
   "outputs": [],
   "source": [
    "#changing the output as 0 or 1\n",
    "i = 0\n",
    "while i<len(predicted):\n",
    "    if predicted[i] >=.5:\n",
    "        predicted[i] = 1\n",
    "    else:\n",
    "        predicted[i] = 0\n",
    "    i = i +1\n",
    "y_test = np.asarray(predicted)"
   ]
  },
  {
   "cell_type": "code",
   "execution_count": 40,
   "metadata": {},
   "outputs": [
    {
     "name": "stdout",
     "output_type": "stream",
     "text": [
      "(84,)\n"
     ]
    }
   ],
   "source": [
    "predicted = predicted.reshape([-1])\n",
    "print(predicted.shape)"
   ]
  },
  {
   "cell_type": "code",
   "execution_count": 41,
   "metadata": {},
   "outputs": [
    {
     "name": "stdout",
     "output_type": "stream",
     "text": [
      "Confusion matrix, without normalization\n",
      "[[42  0]\n",
      " [ 0 42]]\n",
      "Normalized confusion matrix\n",
      "[[ 1.  0.]\n",
      " [ 0.  1.]]\n"
     ]
    },
    {
     "data": {
      "image/png": "[encoded data removed]",
      "text/plain": [
       "<matplotlib.figure.Figure at 0x124773e48>"
      ]
     },
     "metadata": {},
     "output_type": "display_data"
    },
    {
     "data": {
      "image/png": "[encoded data removed]",
      "text/plain": [
       "<matplotlib.figure.Figure at 0x12758f908>"
      ]
     },
     "metadata": {},
     "output_type": "display_data"
    }
   ],
   "source": [
    "#plotting the confusion matrix\n",
    "import itertools\n",
    "from sklearn.metrics import confusion_matrix\n",
    "\n",
    "\n",
    "def plot_confusion_matrix(cm, classes,\n",
    "                          normalize=False,\n",
    "                          title='Confusion matrix',\n",
    "                          cmap=plt.cm.Blues):\n",
    "    \"\"\"\n",
    "    This function prints and plots the confusion matrix.\n",
    "    Normalization can be applied by setting `normalize=True`.\n",
    "    \"\"\"\n",
    "    if normalize:\n",
    "        cm = cm.astype('float') / cm.sum(axis=1)[:, np.newaxis]\n",
    "        print(\"Normalized confusion matrix\")\n",
    "    else:\n",
    "        print('Confusion matrix, without normalization')\n",
    "\n",
    "    print(cm)\n",
    "\n",
    "    plt.imshow(cm, interpolation='nearest', cmap=cmap)\n",
    "    plt.title(title)\n",
    "    plt.colorbar()\n",
    "    tick_marks = np.arange(len(classes))\n",
    "    plt.xticks(tick_marks, classes, rotation=45)\n",
    "    plt.yticks(tick_marks, classes)\n",
    "\n",
    "    fmt = '.2f' if normalize else 'd'\n",
    "    thresh = cm.max() / 2.\n",
    "    for i, j in itertools.product(range(cm.shape[0]), range(cm.shape[1])):\n",
    "        plt.text(j, i, format(cm[i, j], fmt),\n",
    "                 horizontalalignment=\"center\",\n",
    "                 color=\"white\" if cm[i, j] > thresh else \"black\")\n",
    "\n",
    "    plt.tight_layout()\n",
    "    plt.ylabel('True label')\n",
    "    plt.xlabel('Predicted label')\n",
    "\n",
    "# Compute confusion matrix\n",
    "cnf_matrix = confusion_matrix(y_test, predicted)\n",
    "np.set_printoptions(precision=2)\n",
    "\n",
    "# Plot non-normalized confusion matrix\n",
    "plt.figure()\n",
    "plot_confusion_matrix(cnf_matrix, classes=['cat','dog'],\n",
    "                      title='Confusion matrix, without normalization')\n",
    "\n",
    "# Plot normalized confusion matrix\n",
    "plt.figure()\n",
    "plot_confusion_matrix(cnf_matrix, classes=['cat','dog'], normalize=True,\n",
    "                      title='Normalized confusion matrix')\n",
    "\n",
    "plt.show()"
   ]
  },
  {
   "cell_type": "code",
   "execution_count": null,
   "metadata": {
    "collapsed": true
   },
   "outputs": [],
   "source": []
  }
 ],
 "metadata": {
  "kernelspec": {
   "display_name": "Python 3",
   "language": "python",
   "name": "python3"
  },
  "language_info": {
   "codemirror_mode": {
    "name": "ipython",
    "version": 3
   },
   "file_extension": ".py",
   "mimetype": "text/x-python",
   "name": "python",
   "nbconvert_exporter": "python",
   "pygments_lexer": "ipython3",
   "version": "3.6.2"
  }
 },
 "nbformat": 4,
 "nbformat_minor": 1
}
