{
 "cells": [
  {
   "cell_type": "code",
   "execution_count": 125,
   "metadata": {},
   "outputs": [],
   "source": [
    "import tensorflow as tf\n",
    "import matplotlib.pyplot as plt\n",
    "from __future__ import division, print_function, absolute_import\n",
    "from tf_utils import load_features, random_mini_batches, convert_to_one_hot, predict\n",
    "\n",
    "train_data, test_data, train_labels, test_labels = load_features()\n",
    "train_data = train_data.astype(np.float32)\n",
    "test_data = test_data.astype(np.float32)"
   ]
  },
  {
   "cell_type": "code",
   "execution_count": 128,
   "metadata": {},
   "outputs": [],
   "source": [
    "#Seeding\n",
    "seed = 3  \n",
    "    \n",
    "#Parameters\n",
    "learning_rate = 0.001\n",
    "# num_steps = 100\n",
    "num_epochs = 100\n",
    "minibatch_size = 64\n",
    "display_step = 10\n",
    "\n",
    "# Network Parameters\n",
    "num_input = 3584 # 128*28\n",
    "num_classes = 2\n",
    "dropout = 0.50\n",
    "\n",
    "# tf Graph input\n",
    "X = tf.placeholder(tf.float32, [None, 128, 28])\n",
    "Y = tf.placeholder(tf.float32, [None, num_classes])\n",
    "keep_prob = tf.placeholder(tf.float32) # dropout (keep probability)"
   ]
  },
  {
   "cell_type": "code",
   "execution_count": 120,
   "metadata": {},
   "outputs": [],
   "source": [
    "import numpy as np\n",
    "\n",
    "def next_batch(num, data, labels):\n",
    "    '''\n",
    "    Return a total of `num` random samples and labels. \n",
    "    '''\n",
    "    idx = np.arange(0 , len(data))\n",
    "    np.random.shuffle(idx)\n",
    "    idx = idx[:num]\n",
    "    data_shuffle = [data[ i] for i in idx]\n",
    "    labels_shuffle = [labels[ i] for i in idx]\n",
    "    return np.asarray(data_shuffle), np.asarray(labels_shuffle)"
   ]
  },
  {
   "cell_type": "code",
   "execution_count": 121,
   "metadata": {},
   "outputs": [],
   "source": [
    "# Model\n",
    "def sound_net(x, weights, biases, dropout):\n",
    "    # Input Layer\n",
    "    x = tf.reshape(x, shape=[-1, 128, 28, 1])\n",
    "\n",
    "    # Convolutional Layer #1\n",
    "    #input shape [batch, 128, 28, 1]\n",
    "    #output shape [batch, 128, 28, 80]   \n",
    "    conv1 = tf.layers.conv2d(inputs=x, filters=80, kernel_size=[57, 6], padding=\"same\", activation=tf.nn.relu)\n",
    "\n",
    "    # Pooling Layer #1\n",
    "    # Input Tensor Shape: [batch_size, 128, 28, 80]\n",
    "    # Output Tensor Shape: [batch_size, 64, 14, 80]\n",
    "    pool1 = tf.layers.max_pooling2d(inputs=conv1, pool_size=[2, 2], strides=2)\n",
    "\n",
    "    # Convolutional Layer #2\n",
    "    #input shape [batch_size, 64, 14, 80]\n",
    "    #output shape [batch_size, 64, 14, 80]\n",
    "    conv2 = tf.layers.conv2d(inputs=pool1, filters=80, kernel_size=[1, 3], padding=\"same\", activation=tf.nn.relu)\n",
    "    \n",
    "    # Pooling Layer #2\n",
    "    # Input Tensor Shape: [batch_size, 64, 14, 80]\n",
    "    # Output Tensor Shape: [batch_size, 8, 2, 80]\n",
    "    pool2 = tf.layers.max_pooling2d(inputs=conv2, pool_size=[8, 7], strides=[8, 7])\n",
    "\n",
    "    # Fully connected layer\n",
    "    # Reshape conv2 output to fit fully connected layer input\n",
    "    dense1 = tf.reshape(pool2, [-1, weights['wd1'].get_shape().as_list()[0]])\n",
    "    dense1 = tf.add(tf.matmul(dense1, weights['wd1']), biases['bd1'])\n",
    "    dense1 = tf.nn.relu(dense1)\n",
    "    # Apply Dropout\n",
    "#     fc1 = tf.nn.dropout(fc1, dropout)\n",
    "    \n",
    "    # Output, class prediction\n",
    "    out = tf.add(tf.matmul(dense1, weights['out']), biases['out'])\n",
    "    return out"
   ]
  },
  {
   "cell_type": "code",
   "execution_count": 122,
   "metadata": {
    "scrolled": false
   },
   "outputs": [],
   "source": [
    "# Store weights and biases\n",
    "weights = {\n",
    "    # 57x6 conv\n",
    "    'wc1': tf.Variable(tf.random_normal([57, 6, 1, 80])),\n",
    "    # 1x3 conv\n",
    "    'wc2': tf.Variable(tf.random_normal([1, 3, 80, 80])),\n",
    "    # fully connected, 8*2*80 inputs (after maxpool), 1024 outputs\n",
    "    'wd1': tf.Variable(tf.random_normal([8*2*80, 1024])),\n",
    "    # 1024 inputs, 2 outputs\n",
    "    'out': tf.Variable(tf.random_normal([1024, num_classes]))\n",
    "}\n",
    "\n",
    "biases = {\n",
    "    'bc1': tf.Variable(tf.random_normal([80])),\n",
    "    'bc2': tf.Variable(tf.random_normal([80])),\n",
    "    'bd1': tf.Variable(tf.random_normal([1024])),\n",
    "    'out': tf.Variable(tf.random_normal([num_classes]))\n",
    "}\n",
    "\n",
    "# build model\n",
    "logits = sound_net(X, weights, biases, keep_prob)\n",
    "prediction = tf.nn.softmax(logits)\n",
    "\n",
    "# Define loss and optimizer\n",
    "loss_op = tf.reduce_mean(tf.nn.softmax_cross_entropy_with_logits_v2(logits=logits, labels=Y))\n",
    "optimizer = tf.train.AdamOptimizer(learning_rate=learning_rate)\n",
    "train_op = optimizer.minimize(loss_op)\n",
    "\n",
    "# Evaluate model\n",
    "correct_pred = tf.equal(tf.argmax(prediction, 1), tf.argmax(Y, 1))\n",
    "accuracy = tf.reduce_mean(tf.cast(correct_pred, tf.float32))\n",
    "\n",
    "# Initialize\n",
    "init = tf.global_variables_initializer()"
   ]
  },
  {
   "cell_type": "code",
   "execution_count": 123,
   "metadata": {
    "scrolled": false
   },
   "outputs": [
    {
     "name": "stdout",
     "output_type": "stream",
     "text": [
      "Step 1, MB Loss= 22204.0527, Tr. accuracy= 0.250\n",
      "Step 10, MB Loss= 2059.0835, Tr. accuracy= 0.750\n",
      "Step 20, MB Loss= 629.9486, Tr. accuracy= 0.450\n",
      "Step 30, MB Loss= 806.1779, Tr. accuracy= 0.600\n",
      "Step 40, MB Loss= 227.3027, Tr. accuracy= 0.850\n",
      "Step 50, MB Loss= 165.7910, Tr. accuracy= 0.750\n",
      "Step 60, MB Loss= 93.9368, Tr. accuracy= 0.800\n",
      "Step 70, MB Loss= 279.2568, Tr. accuracy= 0.850\n",
      "Step 80, MB Loss= 251.0138, Tr. accuracy= 0.800\n",
      "Step 90, MB Loss= 32.0657, Tr. accuracy= 0.850\n",
      "Step 100, MB Loss= 66.6055, Tr. accuracy= 0.900\n",
      "Done training! \n"
     ]
    },
    {
     "data": {
      "image/png": "[encoded data removed]",
      "text/plain": [
       "<matplotlib.figure.Figure at 0x13295cb70>"
      ]
     },
     "metadata": {},
     "output_type": "display_data"
    },
    {
     "name": "stdout",
     "output_type": "stream",
     "text": [
      "Test Accuracy: 0.82266\n"
     ]
    }
   ],
   "source": [
    "# Training\n",
    "costs = []\n",
    "\n",
    "with tf.Session() as sess:\n",
    "    sess.run(init)\n",
    "\n",
    "    for epoch in range(num_epochs):\n",
    "    \n",
    "        epoch_cost = 0.\n",
    "        num_minibatches = int(m / minibatch_size)\n",
    "        seed = seed + 1\n",
    "        minibatches = random_mini_batches(train_data, train_labels, minibatch_size, seed)\n",
    "\n",
    "        for minibatch in minibatches:\n",
    "        \n",
    "            \n",
    "        for step in range(1, num_steps+1):\n",
    "            batch_x, batch_y = next_batch(batch_size, train_data, train_labels)\n",
    "            #convert to one_hot for labels\n",
    "            batch_y = tf.one_hot(batch_y, num_classes)\n",
    "            batch_y = sess.run(batch_y)\n",
    "            sess.run(train_op, feed_dict={X: batch_x, Y: batch_y, keep_prob: dropout})\n",
    "            if step % display_step == 0 or step == 1:\n",
    "                loss, acc = sess.run([loss_op, accuracy], feed_dict={X: batch_x,\n",
    "                                                                     Y: batch_y,\n",
    "                                                                     keep_prob: 1.0})\n",
    "                print(\"Step \" + str(step) + \", MB Loss= \" + \"{:.4f}\".format(loss) + \", Tr. accuracy= \" + \"{:.3f}\".format(acc))\n",
    "                epoch_loss += loss\n",
    "#                 costs.append(loss)\n",
    "            \n",
    "    print(\"Done training! \")\n",
    "    \n",
    "    #Plot loss over time\n",
    "    plt.plot(np.squeeze(costs))\n",
    "    plt.ylabel('cost')\n",
    "    plt.xlabel('iterations (per tens)')\n",
    "    plt.title(\"Learning rate =\" + str(learning_rate))\n",
    "    plt.show()    \n",
    "\n",
    "    # Test accuracy\n",
    "    test_labels = tf.one_hot(test_labels, num_classes)\n",
    "    test_labels = sess.run(test_labels)    \n",
    "    print(\"Test Accuracy:\", \\\n",
    "        sess.run(accuracy, feed_dict={X: test_data,\n",
    "                                      Y: test_labels,\n",
    "                                      keep_prob: 1.0}))"
   ]
  },
  {
   "cell_type": "code",
   "execution_count": 124,
   "metadata": {},
   "outputs": [],
   "source": [
    "tf.reset_default_graph()"
   ]
  },
  {
   "cell_type": "code",
   "execution_count": 3,
   "metadata": {},
   "outputs": [],
   "source": [
    "import tensorflow as tf\n",
    "import numpy as np\n",
    "import matplotlib.pyplot as plt\n",
    "from __future__ import division, print_function, absolute_import\n",
    "from tf_utils import load_features, random_mini_batches, convert_to_one_hot, predict\n",
    "\n",
    "train_data, test_data, train_labels, test_labels = load_features()\n",
    "train_data = train_data.astype(np.float32)\n",
    "test_data = test_data.astype(np.float32)"
   ]
  },
  {
   "cell_type": "code",
   "execution_count": 4,
   "metadata": {},
   "outputs": [],
   "source": [
    "train_data, test_data, train_labels, test_labels = load_features()\n",
    "train_data = train_data.astype(np.float32)\n",
    "# test_data = test_data.astype(np.float32)\n",
    "# minibatches = random_mini_batches(train_data, train_labels, 64, 3)"
   ]
  },
  {
   "cell_type": "code",
   "execution_count": 6,
   "metadata": {},
   "outputs": [
    {
     "data": {
      "text/plain": [
       "1826"
      ]
     },
     "execution_count": 6,
     "metadata": {},
     "output_type": "execute_result"
    }
   ],
   "source": [
    "train_data.shape[0]"
   ]
  },
  {
   "cell_type": "code",
   "execution_count": 10,
   "metadata": {},
   "outputs": [
    {
     "data": {
      "text/plain": [
       "(1, 1826)"
      ]
     },
     "execution_count": 10,
     "metadata": {},
     "output_type": "execute_result"
    }
   ],
   "source": [
    "b = train_labels.reshape(1, 1826)\n",
    "b.shape"
   ]
  },
  {
   "cell_type": "code",
   "execution_count": 139,
   "metadata": {
    "scrolled": false
   },
   "outputs": [
    {
     "data": {
      "text/plain": [
       "1826"
      ]
     },
     "execution_count": 139,
     "metadata": {},
     "output_type": "execute_result"
    }
   ],
   "source": [
    "m = train_data.shape[0]  \n",
    "np.random.seed(seed)\n",
    "permutation = list(np.random.permutation(m))\n",
    "len(permutation)"
   ]
  },
  {
   "cell_type": "code",
   "execution_count": null,
   "metadata": {},
   "outputs": [],
   "source": []
  }
 ],
 "metadata": {
  "kernelspec": {
   "display_name": "Python 3",
   "language": "python",
   "name": "python3"
  },
  "language_info": {
   "codemirror_mode": {
    "name": "ipython",
    "version": 3
   },
   "file_extension": ".py",
   "mimetype": "text/x-python",
   "name": "python",
   "nbconvert_exporter": "python",
   "pygments_lexer": "ipython3",
   "version": "3.6.2"
  }
 },
 "nbformat": 4,
 "nbformat_minor": 2
}
