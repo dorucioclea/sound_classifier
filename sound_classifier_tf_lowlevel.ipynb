{
 "cells": [
  {
   "cell_type": "code",
   "execution_count": 1,
   "metadata": {},
   "outputs": [
    {
     "data": {
      "text/html": [
       "<style>.container { width:100% !important; }</style>"
      ],
      "text/plain": [
       "<IPython.core.display.HTML object>"
      ]
     },
     "metadata": {},
     "output_type": "display_data"
    }
   ],
   "source": [
    "from IPython.core.display import display, HTML\n",
    "display(HTML(\"<style>.container { width:100% !important; }</style>\"))"
   ]
  },
  {
   "cell_type": "code",
   "execution_count": 1,
   "metadata": {},
   "outputs": [
    {
     "name": "stderr",
     "output_type": "stream",
     "text": [
      "/home/ubuntu/anaconda3/envs/tensorflow_p36/lib/python3.6/site-packages/h5py/__init__.py:36: FutureWarning: Conversion of the second argument of issubdtype from `float` to `np.floating` is deprecated. In future, it will be treated as `np.float64 == np.dtype(float).type`.\n",
      "  from ._conv import register_converters as _register_converters\n",
      "/home/ubuntu/anaconda3/envs/tensorflow_p36/lib/python3.6/site-packages/matplotlib/__init__.py:962: UserWarning: Duplicate key in file \"/home/ubuntu/.config/matplotlib/matplotlibrc\", line #2\n",
      "  (fname, cnt))\n",
      "/home/ubuntu/anaconda3/envs/tensorflow_p36/lib/python3.6/site-packages/matplotlib/__init__.py:962: UserWarning: Duplicate key in file \"/home/ubuntu/.config/matplotlib/matplotlibrc\", line #3\n",
      "  (fname, cnt))\n"
     ]
    }
   ],
   "source": [
    "import tensorflow as tf\n",
    "import numpy as np\n",
    "import time\n",
    "import matplotlib.pyplot as plt\n",
    "from __future__ import division, print_function, absolute_import\n",
    "from tf_utils import load_features_with_deltas_stacking, random_mini_batches\n",
    "\n",
    "train_data, test_data, train_labels, test_labels = load_features_with_deltas_stacking()\n",
    "train_data = train_data.astype(np.float32)\n",
    "test_data = test_data.astype(np.float32)"
   ]
  },
  {
   "cell_type": "code",
   "execution_count": 2,
   "metadata": {},
   "outputs": [],
   "source": [
    "#Seeding\n",
    "seed = 3\n",
    "\n",
    "# Network Parameters\n",
    "input_h = train_data.shape[1] #Height\n",
    "input_w = train_data.shape[2] #Width\n",
    "num_classes = 2\n",
    "\n",
    "X = tf.placeholder(tf.float32, [None, input_h, input_w])\n",
    "Y = tf.placeholder(tf.float32, [None, num_classes])\n",
    "keep_prob = tf.placeholder(tf.float32)\n",
    "learning_rate = tf.placeholder(tf.float32)"
   ]
  },
  {
   "cell_type": "code",
   "execution_count": 3,
   "metadata": {},
   "outputs": [],
   "source": [
    "# Model\n",
    "def sound_net(x, weights, biases, dropout):\n",
    "    # Input Layer\n",
    "    x = tf.reshape(x, shape=[-1, input_h, input_w, 1])\n",
    "\n",
    "    # Convolutional Layer #1\n",
    "    #input shape [batch, input_h, input_w, 1]\n",
    "    #output shape [batch, input_h, input_w, 80]   \n",
    "    conv1 = tf.nn.conv2d(x, weights['wc1'], padding=\"SAME\", strides=[1,1,1,1])\n",
    "    conv1 = tf.nn.bias_add(conv1, biases['bc1'])\n",
    "    conv1 = tf.nn.relu(conv1)\n",
    "\n",
    "    # Pooling Layer #1\n",
    "    # Input Tensor Shape: [batch_size, input_h, input_w, 80]\n",
    "    # Output Tensor Shape: [batch_size, input_h/2, input_w/2, 80]\n",
    "    pool1 = tf.nn.max_pool(conv1, ksize=[1, 2, 2, 1], strides=[1, 2, 2, 1], padding='SAME')    \n",
    "    pool1 = tf.nn.dropout(pool1,dropout)\n",
    "    \n",
    "    # Convolutional Layer #2\n",
    "    #input shape [batch_size, input_h/2, input_w/2, 80]\n",
    "    #output shape [batch_size, input_h/2, input_w/2, 80]\n",
    "    conv2 = tf.nn.conv2d(pool1, weights['wc2'], padding=\"SAME\", strides=[1,1,1,1])\n",
    "    conv2 = tf.nn.bias_add(conv2, biases['bc2'])\n",
    "    conv2 = tf.nn.relu(conv2)\n",
    "    \n",
    "    # Pooling Layer #2\n",
    "    # Input Tensor Shape: [batch_size, input_h/2, input_w/2, 80]\n",
    "    # Output Tensor Shape: [batch_size, input_h/16 input_w/14, 80]\n",
    "    pool2 = tf.nn.max_pool(conv2, ksize=[1, 8, 7, 1], strides=[1, 8, 7, 1], padding='SAME')    \n",
    "\n",
    "    # Fully connected layer\n",
    "    # Reshape conv2 output to fit fully connected layer input\n",
    "    dense1 = tf.reshape(pool2, [-1, weights['wd1'].get_shape().as_list()[0]])\n",
    "    dense1 = tf.add(tf.matmul(dense1, weights['wd1']), biases['bd1'])\n",
    "    dense1 = tf.nn.relu(dense1)\n",
    "    # Apply Dropout\n",
    "    dense1 = tf.nn.dropout(dense1,dropout)\n",
    "   \n",
    "    # Fully connected layer\n",
    "    # Reshape conv2 output to fit fully connected layer input\n",
    "    dense2 = tf.reshape(dense1, [-1, weights['wd2'].get_shape().as_list()[0]])\n",
    "    dense2 = tf.add(tf.matmul(dense2, weights['wd2']), biases['bd2'])\n",
    "    dense2 = tf.nn.relu(dense2)\n",
    "    # Apply Dropout\n",
    "    dense2=tf.nn.dropout(dense2,dropout)\n",
    "   \n",
    "    # Output, class prediction\n",
    "    out = tf.add(tf.matmul(dense2, weights['out']), biases['out'])\n",
    "    return out"
   ]
  },
  {
   "cell_type": "code",
   "execution_count": 4,
   "metadata": {},
   "outputs": [],
   "source": [
    "# Store weights and biases\n",
    "weights = {\n",
    "    # 57x6 conv\n",
    "    'wc1': tf.Variable(tf.random_normal([57, 6, 1, 80])),\n",
    "    # 1x3 conv\n",
    "    'wc2': tf.Variable(tf.random_normal([1, 3, 80, 80])),\n",
    "    # fully connected, (input_h/16)*(input_w/14)*80 inputs (after maxpool), 1024 outputs\n",
    "    # if our input is (128, 28) this will be 8*2*80\n",
    "    'wd1': tf.Variable(tf.random_normal([int(input_h/16)*int(input_w/14)*80, 1024])),\n",
    "    # fully connected, 1014 inputs (after maxpool), 1024 outputs\n",
    "    'wd2': tf.Variable(tf.random_normal([1024, 1024])),\n",
    "    # 1024 inputs, 2 outputs\n",
    "    'out': tf.Variable(tf.random_normal([1024, num_classes]))\n",
    "}\n",
    "\n",
    "biases = {\n",
    "    'bc1': tf.Variable(tf.random_normal([80])),\n",
    "    'bc2': tf.Variable(tf.random_normal([80])),\n",
    "    'bd1': tf.Variable(tf.random_normal([1024])),\n",
    "    'bd2': tf.Variable(tf.random_normal([1024])),\n",
    "    'out': tf.Variable(tf.random_normal([num_classes]))\n",
    "}\n",
    "\n",
    "# build model\n",
    "logits = sound_net(X, weights, biases, keep_prob)\n",
    "prediction = tf.nn.softmax(logits)\n",
    "\n",
    "# Define loss and optimizer\n",
    "loss_op = tf.reduce_mean(tf.nn.softmax_cross_entropy_with_logits_v2(logits=logits, labels=Y))\n",
    "optimizer = tf.train.AdamOptimizer(learning_rate=learning_rate)\n",
    "train_op = optimizer.minimize(loss_op)\n",
    "\n",
    "# Evaluate model\n",
    "correct_pred = tf.equal(tf.argmax(prediction, 1), tf.argmax(Y, 1))\n",
    "accuracy = tf.reduce_mean(tf.cast(correct_pred, tf.float32))\n",
    "\n",
    "# Initialize\n",
    "init = tf.global_variables_initializer()"
   ]
  },
  {
   "cell_type": "code",
   "execution_count": 5,
   "metadata": {},
   "outputs": [],
   "source": [
    "def run_model(num_epochs, train_data, train_labels, test_data, test_labels, minibatch_size, \n",
    "              seed, learn_rate, dropout):\n",
    "    costs = []\n",
    "    accuracies = []\n",
    "    \n",
    "    with tf.Session(graph=g) as sess:\n",
    "                    \n",
    "        sess.run(init)        \n",
    "        #Print some info about the model executed.\n",
    "        print('Training of the network with:')\n",
    "        print('learning rate: ' + str(learn_rate) + ', dropout: ' + str(dropout) + '\\n')                \n",
    "        for epoch in range(num_epochs):\n",
    "            \n",
    "            epoch_cost = 0.\n",
    "            epoch_accuracies = []\n",
    "            seed = seed + 1\n",
    "            epoch_start_time = time.time()\n",
    "            minibatches = random_mini_batches(train_data, train_labels, minibatch_size, seed)\n",
    "\n",
    "            for minibatch in minibatches:\n",
    "                (batch_x, batch_y) = minibatch\n",
    "                #convert to one_hot for labels\n",
    "                batch_y = tf.one_hot(batch_y, num_classes)\n",
    "                batch_y = sess.run(batch_y)\n",
    "                batch_y = batch_y.reshape((batch_y.shape[0], num_classes))\n",
    "\n",
    "                sess.run(train_op, feed_dict={X: batch_x, \n",
    "                                              Y: batch_y, \n",
    "                                              keep_prob: (1 - dropout), \n",
    "                                              learning_rate: learn_rate})\n",
    "                loss, acc = sess.run([loss_op, accuracy], feed_dict={X: batch_x,\n",
    "                                                                     Y: batch_y,\n",
    "                                                                     keep_prob: (1 - dropout),\n",
    "                                                                     learning_rate: learn_rate})\n",
    "                epoch_cost += loss\n",
    "                epoch_accuracies.append(acc)\n",
    "            \n",
    "            epoch_end_time = time.time()\n",
    "            per_epoch_ptime = epoch_end_time - epoch_start_time\n",
    "            \n",
    "            #After running all minibatches    \n",
    "            epoch_accuracy = np.mean(epoch_accuracies)            \n",
    "            if epoch % 10 == 0:\n",
    "                print(\"Epoch \" + str(epoch) + \", Loss= \" + \\\n",
    "                      \"{:.4f}\".format(loss) + \", Accuracy= \" + \\\n",
    "                      \"{:.3f}\".format(epoch_accuracy))\n",
    "                print(per_epoch_ptime)\n",
    "            if epoch % 5 == 0:\n",
    "                costs.append(epoch_cost)\n",
    "                accuracies.append(epoch_accuracy)\n",
    "\n",
    "        #Plot loss over time\n",
    "        plt.plot(np.squeeze(costs))\n",
    "        plt.ylabel('cost')\n",
    "        plt.xlabel('iterations (per tens)')\n",
    "        plt.title('learning rate: ' + str(learn_rate) + ', dropout: ' + str(dropout))\n",
    "        plt.show()   \n",
    "\n",
    "        #Plot accuracy over time\n",
    "        plt.plot(np.squeeze(accuracies))\n",
    "        plt.ylabel('accuracy (%)')\n",
    "        plt.xlabel('iterations (per tens)')\n",
    "        plt.title('learning rate: ' + str(learn_rate) + ', dropout: ' + str(dropout))\n",
    "        plt.show()           \n",
    "\n",
    "        # Test accuracy\n",
    "        test_labels = tf.one_hot(test_labels, num_classes)\n",
    "        test_labels = sess.run(test_labels)     \n",
    "        \n",
    "        print(\"Test Accuracy:\", \\\n",
    "            sess.run(accuracy, feed_dict={X: test_data,\n",
    "                                          Y: test_labels,\n",
    "                                          keep_prob: 1.0}))"
   ]
  },
  {
   "cell_type": "code",
   "execution_count": 6,
   "metadata": {
    "scrolled": false
   },
   "outputs": [
    {
     "name": "stdout",
     "output_type": "stream",
     "text": [
      "Training of the network with:\n",
      "learning rate: 0.1, dropout: 0.1\n",
      "\n",
      "Epoch 0, Loss= 459805.5312, Accuracy= 0.584\n",
      "12.706498861312866\n",
      "Epoch 10, Loss= 3370.3862, Accuracy= 0.824\n",
      "9.574724197387695\n",
      "Epoch 20, Loss= 930.1547, Accuracy= 0.872\n",
      "10.92724871635437\n",
      "Epoch 30, Loss= 33.0579, Accuracy= 0.880\n",
      "11.350658655166626\n",
      "Epoch 40, Loss= 0.2876, Accuracy= 0.840\n",
      "12.928589344024658\n",
      "Epoch 50, Loss= 38.3451, Accuracy= 0.725\n",
      "16.01091766357422\n",
      "Epoch 60, Loss= 84.2168, Accuracy= 0.713\n",
      "15.325806617736816\n",
      "Epoch 70, Loss= 92.1120, Accuracy= 0.715\n",
      "16.42267918586731\n",
      "Epoch 80, Loss= 0.5697, Accuracy= 0.733\n",
      "17.625221014022827\n",
      "Epoch 90, Loss= 54.3195, Accuracy= 0.702\n",
      "21.207151651382446\n"
     ]
    },
    {
     "data": {
      "image/png": "[encoded data removed]",
      "text/plain": [
       "<matplotlib.figure.Figure at 0x7ff59d43a198>"
      ]
     },
     "metadata": {},
     "output_type": "display_data"
    },
    {
     "data": {
      "image/png": "[encoded data removed]",
      "text/plain": [
       "<matplotlib.figure.Figure at 0x7ff56adf47b8>"
      ]
     },
     "metadata": {},
     "output_type": "display_data"
    },
    {
     "name": "stdout",
     "output_type": "stream",
     "text": [
      "Test Accuracy: 0.7093596\n",
      "----------------------------------------------------\n",
      "\n"
     ]
    }
   ],
   "source": [
    "run_model(num_epochs=100, train_data=train_data, train_labels=train_labels, test_data=test_data, \n",
    "          test_labels=test_labels, minibatch_size=64, learn_rate=0.1, seed=seed, dropout=0.1)"
   ]
  },
  {
   "cell_type": "code",
   "execution_count": 10,
   "metadata": {},
   "outputs": [],
   "source": [
    "tf.reset_default_graph()"
   ]
  },
  {
   "cell_type": "code",
   "execution_count": null,
   "metadata": {},
   "outputs": [],
   "source": []
  }
 ],
 "metadata": {
  "kernelspec": {
   "display_name": "Python 3",
   "language": "python",
   "name": "python3"
  },
  "language_info": {
   "codemirror_mode": {
    "name": "ipython",
    "version": 3
   },
   "file_extension": ".py",
   "mimetype": "text/x-python",
   "name": "python",
   "nbconvert_exporter": "python",
   "pygments_lexer": "ipython3",
   "version": "3.6.2"
  }
 },
 "nbformat": 4,
 "nbformat_minor": 2
}
