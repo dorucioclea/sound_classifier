{
 "cells": [
  {
   "cell_type": "code",
   "execution_count": 33,
   "metadata": {},
   "outputs": [],
   "source": [
    "import tensorflow as tf\n",
    "import numpy as np\n",
    "import matplotlib.pyplot as plt\n",
    "from __future__ import division, print_function, absolute_import\n",
    "from tf_utils import load_features_with_deltas_stacking, random_mini_batches\n",
    "\n",
    "train_data, test_data, train_labels, test_labels = load_features_with_deltas_stacking()\n",
    "train_data = train_data.astype(np.float32)\n",
    "test_data = test_data.astype(np.float32)"
   ]
  },
  {
   "cell_type": "code",
   "execution_count": 34,
   "metadata": {},
   "outputs": [],
   "source": [
    "#Seeding\n",
    "seed = 3\n",
    "\n",
    "# Network Parameters\n",
    "input_h = train_data.shape[1] #Height\n",
    "input_w = train_data.shape[2] #Width\n",
    "# num_input = input_h*input_w\n",
    "num_classes = 2\n",
    "dropout = 0.50\n",
    "\n",
    "# tf Graph input\n",
    "X = tf.placeholder(tf.float32, [None, input_h, input_w])\n",
    "Y = tf.placeholder(tf.float32, [None, num_classes])\n",
    "keep_prob = tf.placeholder(tf.float32)\n",
    "learning_rate = tf.placeholder(tf.float32)\n",
    "beta1 = tf.Variable(0.9, name = 'beta1', dtype=tf.float32, trainable=False)\n",
    "beta2 = tf.Variable(0.999, name = 'beta2', dtype=tf.float32, trainable=False)\n",
    "epsilon = tf.Variable(1e-08, name = 'epsilon', dtype=tf.float32, trainable=False)"
   ]
  },
  {
   "cell_type": "code",
   "execution_count": 35,
   "metadata": {},
   "outputs": [],
   "source": [
    "# Model\n",
    "def sound_net(x, weights, biases, dropout):\n",
    "    # Input Layer\n",
    "    x = tf.reshape(x, shape=[-1, input_h, input_w, 1])\n",
    "\n",
    "    # Convolutional Layer #1\n",
    "    #input shape [batch, input_h, input_w, 1]\n",
    "    #output shape [batch, input_h, input_w, 80]   \n",
    "    conv1 = tf.nn.conv2d(x, weights['wc1'], padding=\"SAME\", strides=[1,1,1,1])\n",
    "    conv1 = tf.nn.bias_add(conv1, biases['bc1'])\n",
    "    conv1 = tf.nn.relu(conv1)\n",
    "\n",
    "    # Pooling Layer #1\n",
    "    # Input Tensor Shape: [batch_size, input_h, input_w, 80]\n",
    "    # Output Tensor Shape: [batch_size, input_h/2, input_w/2, 80]\n",
    "    pool1 = tf.nn.max_pool(conv1, ksize=[1, 2, 2, 1], strides=[1, 2, 2, 1], padding='SAME')    \n",
    "    pool1 = tf.nn.dropout(pool1,dropout)\n",
    "    \n",
    "    # Convolutional Layer #2\n",
    "    #input shape [batch_size, input_h/2, input_w/2, 80]\n",
    "    #output shape [batch_size, input_h/2, input_w/2, 80]\n",
    "    conv2 = tf.nn.conv2d(pool1, weights['wc2'], padding=\"SAME\", strides=[1,1,1,1])\n",
    "    conv2 = tf.nn.bias_add(conv2, biases['bc2'])\n",
    "    conv2 = tf.nn.relu(conv2)\n",
    "    \n",
    "    # Pooling Layer #2\n",
    "    # Input Tensor Shape: [batch_size, input_h/2, input_w/2, 80]\n",
    "    # Output Tensor Shape: [batch_size, input_h/16 input_w/14, 80]\n",
    "    pool2 = tf.nn.max_pool(conv2, ksize=[1, 8, 7, 1], strides=[1, 8, 7, 1], padding='SAME')    \n",
    "\n",
    "    # Fully connected layer\n",
    "    # Reshape conv2 output to fit fully connected layer input\n",
    "    dense1 = tf.reshape(pool2, [-1, weights['wd1'].get_shape().as_list()[0]])\n",
    "    dense1 = tf.add(tf.matmul(dense1, weights['wd1']), biases['bd1'])\n",
    "    dense1 = tf.nn.relu(dense1)\n",
    "    # Apply Dropout\n",
    "    dense1 = tf.nn.dropout(dense1,dropout)\n",
    "   \n",
    "    # Fully connected layer\n",
    "    # Reshape conv2 output to fit fully connected layer input\n",
    "    dense2 = tf.reshape(dense1, [-1, weights['wd2'].get_shape().as_list()[0]])\n",
    "    dense2 = tf.add(tf.matmul(dense2, weights['wd2']), biases['bd2'])\n",
    "    dense2 = tf.nn.relu(dense2)\n",
    "    # Apply Dropout\n",
    "    dense2=tf.nn.dropout(dense2,dropout)\n",
    "   \n",
    "    # Output, class prediction\n",
    "    out = tf.add(tf.matmul(dense2, weights['out']), biases['out'])\n",
    "    return out"
   ]
  },
  {
   "cell_type": "code",
   "execution_count": 36,
   "metadata": {},
   "outputs": [],
   "source": [
    "# Store weights and biases\n",
    "weights = {\n",
    "    # 57x6 conv\n",
    "    'wc1': tf.Variable(tf.random_normal([57, 6, 1, 80])),\n",
    "    # 1x3 conv\n",
    "    'wc2': tf.Variable(tf.random_normal([1, 3, 80, 80])),\n",
    "    # fully connected, (input_h/16)*(input_w/14)*80 inputs (after maxpool), 1024 outputs\n",
    "    # if our input is (128, 28) this will be 8*2*80\n",
    "    'wd1': tf.Variable(tf.random_normal([int(input_h/16)*int(input_w/14)*80, 1024])),\n",
    "    # fully connected, 1014 inputs (after maxpool), 1024 outputs\n",
    "    'wd2': tf.Variable(tf.random_normal([1024, 1024])),\n",
    "    # 1024 inputs, 2 outputs\n",
    "    'out': tf.Variable(tf.random_normal([1024, num_classes]))\n",
    "}\n",
    "\n",
    "biases = {\n",
    "    'bc1': tf.Variable(tf.random_normal([80])),\n",
    "    'bc2': tf.Variable(tf.random_normal([80])),\n",
    "    'bd1': tf.Variable(tf.random_normal([1024])),\n",
    "    'bd2': tf.Variable(tf.random_normal([1024])),\n",
    "    'out': tf.Variable(tf.random_normal([num_classes]))\n",
    "}\n",
    "\n",
    "# build model\n",
    "logits = sound_net(X, weights, biases, keep_prob)\n",
    "prediction = tf.nn.softmax(logits)\n",
    "\n",
    "# Define loss and optimizer\n",
    "loss_op = tf.reduce_mean(tf.nn.softmax_cross_entropy_with_logits_v2(logits=logits, labels=Y))\n",
    "optimizer = tf.train.AdamOptimizer(learning_rate=learning_rate, beta1=beta1, beta2=beta2, epsilon=epsilon)\n",
    "train_op = optimizer.minimize(loss_op)\n",
    "\n",
    "# Evaluate model\n",
    "correct_pred = tf.equal(tf.argmax(prediction, 1), tf.argmax(Y, 1))\n",
    "accuracy = tf.reduce_mean(tf.cast(correct_pred, tf.float32))\n",
    "\n",
    "# Initialize\n",
    "init = tf.global_variables_initializer()"
   ]
  },
  {
   "cell_type": "code",
   "execution_count": 53,
   "metadata": {},
   "outputs": [],
   "source": [
    "def run_model(num_epochs, train_data, test_labels, minibatch_size, seed, learn_rate, actual_beta1, actual_beta2, actual_epsilon):\n",
    "    costs = []\n",
    "    accuracies = []\n",
    "    with tf.Session() as sess:\n",
    "                    \n",
    "        sess.run(init)\n",
    "        #Override defaults for Adam\n",
    "        sess.run(beta1.assign(actual_beta1))\n",
    "        sess.run(beta2.assign(actual_beta2))\n",
    "        sess.run(epsilon.assign(actual_epsilon))        \n",
    "        actual_beta1 = sess.run(beta1)  \n",
    "        actual_beta2 = sess.run(beta2)  \n",
    "        actual_epsilon = sess.run(epsilon)    \n",
    "\n",
    "        for epoch in range(num_epochs):\n",
    "\n",
    "            epoch_cost = 0.\n",
    "            epoch_accuracy = []\n",
    "            seed = seed + 1\n",
    "            minibatches = random_mini_batches(train_data, train_labels, minibatch_size, seed)\n",
    "\n",
    "            for minibatch in minibatches:\n",
    "                (batch_x, batch_y) = minibatch\n",
    "                #convert to one_hot for labels\n",
    "                batch_y = tf.one_hot(batch_y, num_classes)\n",
    "                batch_y = sess.run(batch_y)\n",
    "                batch_y = batch_y.reshape((batch_y.shape[0], num_classes))\n",
    "\n",
    "                sess.run(train_op, feed_dict={X: batch_x, \n",
    "                                              Y: batch_y, \n",
    "                                              keep_prob: dropout, \n",
    "                                              learning_rate: learn_rate, \n",
    "                                              beta1: actual_beta1,\n",
    "                                              beta2: actual_beta2,\n",
    "                                              epsilon: actual_epsilon})\n",
    "                loss, acc = sess.run([loss_op, accuracy], feed_dict={X: batch_x,\n",
    "                                                                     Y: batch_y,\n",
    "                                                                     keep_prob: 1.0,\n",
    "                                                                     learning_rate: learn_rate, \n",
    "                                                                     beta1: actual_beta1,\n",
    "                                                                     beta2: actual_beta2,\n",
    "                                                                     epsilon: actual_epsilon})\n",
    "                epoch_cost += loss\n",
    "                epoch_accuracy.append(acc)\n",
    "                \n",
    "            #After running all minibatches    \n",
    "#             if epoch % 10 == 0:\n",
    "#                 print(\"Epoch \" + str(epoch) + \", Minibatch Loss= \" + \\\n",
    "#                       \"{:.4f}\".format(loss) + \", Training Accuracy= \" + \\\n",
    "#                       \"{:.3f}\".format(epoch_accuracy))\n",
    "            if epoch % 1 == 0:\n",
    "                costs.append(epoch_cost)\n",
    "                print(epoch_accuracy)\n",
    "\n",
    "        #Plot loss over time\n",
    "    #     plt.plot(np.squeeze(costs))\n",
    "    #     plt.ylabel('cost')\n",
    "    #     plt.xlabel('iterations (per tens)')\n",
    "    #     plt.title(\"Learning rate =\" + str(learning_rate))\n",
    "    #     plt.show()    \n",
    "\n",
    "        # Test accuracy\n",
    "        test_labels = tf.one_hot(test_labels, num_classes)\n",
    "        test_labels = sess.run(test_labels)    \n",
    "        print(\"Test Accuracy:\", \\\n",
    "            sess.run(accuracy, feed_dict={X: test_data,\n",
    "                                          Y: test_labels,\n",
    "                                          keep_prob: 1.0}))"
   ]
  },
  {
   "cell_type": "code",
   "execution_count": 54,
   "metadata": {},
   "outputs": [
    {
     "ename": "KeyboardInterrupt",
     "evalue": "",
     "output_type": "error",
     "traceback": [
      "\u001b[0;31m---------------------------------------------------------------------------\u001b[0m",
      "\u001b[0;31mKeyboardInterrupt\u001b[0m                         Traceback (most recent call last)",
      "\u001b[0;32m<ipython-input-54-1c764d8f6fa3>\u001b[0m in \u001b[0;36m<module>\u001b[0;34m()\u001b[0m\n\u001b[1;32m      4\u001b[0m \u001b[0;32mfor\u001b[0m \u001b[0mlr\u001b[0m \u001b[0;32min\u001b[0m \u001b[0mlearning_rates\u001b[0m\u001b[0;34m:\u001b[0m\u001b[0;34m\u001b[0m\u001b[0m\n\u001b[1;32m      5\u001b[0m     run_model(num_epochs=100, train_data=train_data, test_labels=test_labels, minibatch_size=64, \n\u001b[0;32m----> 6\u001b[0;31m               learn_rate=lr, seed=seed, actual_beta1=0.9, actual_beta2=0.999, actual_epsilon=1e-08)\n\u001b[0m",
      "\u001b[0;32m<ipython-input-53-8add086a24b0>\u001b[0m in \u001b[0;36mrun_model\u001b[0;34m(num_epochs, train_data, test_labels, minibatch_size, seed, learn_rate, actual_beta1, actual_beta2, actual_epsilon)\u001b[0m\n\u001b[1;32m     40\u001b[0m                                                                      \u001b[0mbeta1\u001b[0m\u001b[0;34m:\u001b[0m \u001b[0mactual_beta1\u001b[0m\u001b[0;34m,\u001b[0m\u001b[0;34m\u001b[0m\u001b[0m\n\u001b[1;32m     41\u001b[0m                                                                      \u001b[0mbeta2\u001b[0m\u001b[0;34m:\u001b[0m \u001b[0mactual_beta2\u001b[0m\u001b[0;34m,\u001b[0m\u001b[0;34m\u001b[0m\u001b[0m\n\u001b[0;32m---> 42\u001b[0;31m                                                                      epsilon: actual_epsilon})\n\u001b[0m\u001b[1;32m     43\u001b[0m                 \u001b[0mepoch_cost\u001b[0m \u001b[0;34m+=\u001b[0m \u001b[0mloss\u001b[0m\u001b[0;34m\u001b[0m\u001b[0m\n\u001b[1;32m     44\u001b[0m                 \u001b[0mepoch_accuracy\u001b[0m\u001b[0;34m.\u001b[0m\u001b[0mappend\u001b[0m\u001b[0;34m(\u001b[0m\u001b[0macc\u001b[0m\u001b[0;34m)\u001b[0m\u001b[0;34m\u001b[0m\u001b[0m\n",
      "\u001b[0;32m/Library/Frameworks/Python.framework/Versions/3.6/lib/python3.6/site-packages/tensorflow/python/client/session.py\u001b[0m in \u001b[0;36mrun\u001b[0;34m(self, fetches, feed_dict, options, run_metadata)\u001b[0m\n\u001b[1;32m    893\u001b[0m     \u001b[0;32mtry\u001b[0m\u001b[0;34m:\u001b[0m\u001b[0;34m\u001b[0m\u001b[0m\n\u001b[1;32m    894\u001b[0m       result = self._run(None, fetches, feed_dict, options_ptr,\n\u001b[0;32m--> 895\u001b[0;31m                          run_metadata_ptr)\n\u001b[0m\u001b[1;32m    896\u001b[0m       \u001b[0;32mif\u001b[0m \u001b[0mrun_metadata\u001b[0m\u001b[0;34m:\u001b[0m\u001b[0;34m\u001b[0m\u001b[0m\n\u001b[1;32m    897\u001b[0m         \u001b[0mproto_data\u001b[0m \u001b[0;34m=\u001b[0m \u001b[0mtf_session\u001b[0m\u001b[0;34m.\u001b[0m\u001b[0mTF_GetBuffer\u001b[0m\u001b[0;34m(\u001b[0m\u001b[0mrun_metadata_ptr\u001b[0m\u001b[0;34m)\u001b[0m\u001b[0;34m\u001b[0m\u001b[0m\n",
      "\u001b[0;32m/Library/Frameworks/Python.framework/Versions/3.6/lib/python3.6/site-packages/tensorflow/python/client/session.py\u001b[0m in \u001b[0;36m_run\u001b[0;34m(self, handle, fetches, feed_dict, options, run_metadata)\u001b[0m\n\u001b[1;32m   1126\u001b[0m     \u001b[0;32mif\u001b[0m \u001b[0mfinal_fetches\u001b[0m \u001b[0;32mor\u001b[0m \u001b[0mfinal_targets\u001b[0m \u001b[0;32mor\u001b[0m \u001b[0;34m(\u001b[0m\u001b[0mhandle\u001b[0m \u001b[0;32mand\u001b[0m \u001b[0mfeed_dict_tensor\u001b[0m\u001b[0;34m)\u001b[0m\u001b[0;34m:\u001b[0m\u001b[0;34m\u001b[0m\u001b[0m\n\u001b[1;32m   1127\u001b[0m       results = self._do_run(handle, final_targets, final_fetches,\n\u001b[0;32m-> 1128\u001b[0;31m                              feed_dict_tensor, options, run_metadata)\n\u001b[0m\u001b[1;32m   1129\u001b[0m     \u001b[0;32melse\u001b[0m\u001b[0;34m:\u001b[0m\u001b[0;34m\u001b[0m\u001b[0m\n\u001b[1;32m   1130\u001b[0m       \u001b[0mresults\u001b[0m \u001b[0;34m=\u001b[0m \u001b[0;34m[\u001b[0m\u001b[0;34m]\u001b[0m\u001b[0;34m\u001b[0m\u001b[0m\n",
      "\u001b[0;32m/Library/Frameworks/Python.framework/Versions/3.6/lib/python3.6/site-packages/tensorflow/python/client/session.py\u001b[0m in \u001b[0;36m_do_run\u001b[0;34m(self, handle, target_list, fetch_list, feed_dict, options, run_metadata)\u001b[0m\n\u001b[1;32m   1342\u001b[0m     \u001b[0;32mif\u001b[0m \u001b[0mhandle\u001b[0m \u001b[0;32mis\u001b[0m \u001b[0;32mNone\u001b[0m\u001b[0;34m:\u001b[0m\u001b[0;34m\u001b[0m\u001b[0m\n\u001b[1;32m   1343\u001b[0m       return self._do_call(_run_fn, self._session, feeds, fetches, targets,\n\u001b[0;32m-> 1344\u001b[0;31m                            options, run_metadata)\n\u001b[0m\u001b[1;32m   1345\u001b[0m     \u001b[0;32melse\u001b[0m\u001b[0;34m:\u001b[0m\u001b[0;34m\u001b[0m\u001b[0m\n\u001b[1;32m   1346\u001b[0m       \u001b[0;32mreturn\u001b[0m \u001b[0mself\u001b[0m\u001b[0;34m.\u001b[0m\u001b[0m_do_call\u001b[0m\u001b[0;34m(\u001b[0m\u001b[0m_prun_fn\u001b[0m\u001b[0;34m,\u001b[0m \u001b[0mself\u001b[0m\u001b[0;34m.\u001b[0m\u001b[0m_session\u001b[0m\u001b[0;34m,\u001b[0m \u001b[0mhandle\u001b[0m\u001b[0;34m,\u001b[0m \u001b[0mfeeds\u001b[0m\u001b[0;34m,\u001b[0m \u001b[0mfetches\u001b[0m\u001b[0;34m)\u001b[0m\u001b[0;34m\u001b[0m\u001b[0m\n",
      "\u001b[0;32m/Library/Frameworks/Python.framework/Versions/3.6/lib/python3.6/site-packages/tensorflow/python/client/session.py\u001b[0m in \u001b[0;36m_do_call\u001b[0;34m(self, fn, *args)\u001b[0m\n\u001b[1;32m   1348\u001b[0m   \u001b[0;32mdef\u001b[0m \u001b[0m_do_call\u001b[0m\u001b[0;34m(\u001b[0m\u001b[0mself\u001b[0m\u001b[0;34m,\u001b[0m \u001b[0mfn\u001b[0m\u001b[0;34m,\u001b[0m \u001b[0;34m*\u001b[0m\u001b[0margs\u001b[0m\u001b[0;34m)\u001b[0m\u001b[0;34m:\u001b[0m\u001b[0;34m\u001b[0m\u001b[0m\n\u001b[1;32m   1349\u001b[0m     \u001b[0;32mtry\u001b[0m\u001b[0;34m:\u001b[0m\u001b[0;34m\u001b[0m\u001b[0m\n\u001b[0;32m-> 1350\u001b[0;31m       \u001b[0;32mreturn\u001b[0m \u001b[0mfn\u001b[0m\u001b[0;34m(\u001b[0m\u001b[0;34m*\u001b[0m\u001b[0margs\u001b[0m\u001b[0;34m)\u001b[0m\u001b[0;34m\u001b[0m\u001b[0m\n\u001b[0m\u001b[1;32m   1351\u001b[0m     \u001b[0;32mexcept\u001b[0m \u001b[0merrors\u001b[0m\u001b[0;34m.\u001b[0m\u001b[0mOpError\u001b[0m \u001b[0;32mas\u001b[0m \u001b[0me\u001b[0m\u001b[0;34m:\u001b[0m\u001b[0;34m\u001b[0m\u001b[0m\n\u001b[1;32m   1352\u001b[0m       \u001b[0mmessage\u001b[0m \u001b[0;34m=\u001b[0m \u001b[0mcompat\u001b[0m\u001b[0;34m.\u001b[0m\u001b[0mas_text\u001b[0m\u001b[0;34m(\u001b[0m\u001b[0me\u001b[0m\u001b[0;34m.\u001b[0m\u001b[0mmessage\u001b[0m\u001b[0;34m)\u001b[0m\u001b[0;34m\u001b[0m\u001b[0m\n",
      "\u001b[0;32m/Library/Frameworks/Python.framework/Versions/3.6/lib/python3.6/site-packages/tensorflow/python/client/session.py\u001b[0m in \u001b[0;36m_run_fn\u001b[0;34m(session, feed_dict, fetch_list, target_list, options, run_metadata)\u001b[0m\n\u001b[1;32m   1327\u001b[0m           return tf_session.TF_Run(session, options,\n\u001b[1;32m   1328\u001b[0m                                    \u001b[0mfeed_dict\u001b[0m\u001b[0;34m,\u001b[0m \u001b[0mfetch_list\u001b[0m\u001b[0;34m,\u001b[0m \u001b[0mtarget_list\u001b[0m\u001b[0;34m,\u001b[0m\u001b[0;34m\u001b[0m\u001b[0m\n\u001b[0;32m-> 1329\u001b[0;31m                                    status, run_metadata)\n\u001b[0m\u001b[1;32m   1330\u001b[0m \u001b[0;34m\u001b[0m\u001b[0m\n\u001b[1;32m   1331\u001b[0m     \u001b[0;32mdef\u001b[0m \u001b[0m_prun_fn\u001b[0m\u001b[0;34m(\u001b[0m\u001b[0msession\u001b[0m\u001b[0;34m,\u001b[0m \u001b[0mhandle\u001b[0m\u001b[0;34m,\u001b[0m \u001b[0mfeed_dict\u001b[0m\u001b[0;34m,\u001b[0m \u001b[0mfetch_list\u001b[0m\u001b[0;34m)\u001b[0m\u001b[0;34m:\u001b[0m\u001b[0;34m\u001b[0m\u001b[0m\n",
      "\u001b[0;31mKeyboardInterrupt\u001b[0m: "
     ]
    }
   ],
   "source": [
    "#Trying different learning rate combinations\n",
    "learning_rates = [0.1, 0.01, 0.001, 0.0001]\n",
    "\n",
    "for lr in learning_rates:\n",
    "    run_model(num_epochs=100, train_data=train_data, test_labels=test_labels, minibatch_size=64, \n",
    "              learn_rate=lr, seed=seed, actual_beta1=0.9, actual_beta2=0.999, actual_epsilon=1e-08)"
   ]
  },
  {
   "cell_type": "code",
   "execution_count": 26,
   "metadata": {},
   "outputs": [],
   "source": [
    "tf.reset_default_graph()"
   ]
  },
  {
   "cell_type": "code",
   "execution_count": 40,
   "metadata": {},
   "outputs": [],
   "source": [
    "minibatches = random_mini_batches(train_data, train_labels, 64, seed)"
   ]
  },
  {
   "cell_type": "code",
   "execution_count": 52,
   "metadata": {},
   "outputs": [
    {
     "data": {
      "text/plain": [
       "(64, 256, 28)"
      ]
     },
     "execution_count": 52,
     "metadata": {},
     "output_type": "execute_result"
    }
   ],
   "source": [
    "minibatches[1]"
   ]
  },
  {
   "cell_type": "code",
   "execution_count": null,
   "metadata": {},
   "outputs": [],
   "source": []
  }
 ],
 "metadata": {
  "kernelspec": {
   "display_name": "Python 3",
   "language": "python",
   "name": "python3"
  },
  "language_info": {
   "codemirror_mode": {
    "name": "ipython",
    "version": 3
   },
   "file_extension": ".py",
   "mimetype": "text/x-python",
   "name": "python",
   "nbconvert_exporter": "python",
   "pygments_lexer": "ipython3",
   "version": "3.6.2"
  }
 },
 "nbformat": 4,
 "nbformat_minor": 2
}
