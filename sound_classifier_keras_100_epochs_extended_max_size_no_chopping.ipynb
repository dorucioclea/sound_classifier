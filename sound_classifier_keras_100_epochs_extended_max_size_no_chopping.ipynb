{
 "cells": [
  {
   "cell_type": "code",
   "execution_count": 1,
   "metadata": {},
   "outputs": [
    {
     "data": {
      "text/html": [
       "<style>.container { width:100% !important; }</style>"
      ],
      "text/plain": [
       "<IPython.core.display.HTML object>"
      ]
     },
     "metadata": {},
     "output_type": "display_data"
    }
   ],
   "source": [
    "from IPython.core.display import display, HTML\n",
    "display(HTML(\"<style>.container { width:100% !important; }</style>\"))"
   ]
  },
  {
   "cell_type": "code",
   "execution_count": 2,
   "metadata": {},
   "outputs": [
    {
     "name": "stderr",
     "output_type": "stream",
     "text": [
      "C:\\ProgramData\\Anaconda3\\lib\\site-packages\\h5py\\__init__.py:36: FutureWarning: Conversion of the second argument of issubdtype from `float` to `np.floating` is deprecated. In future, it will be treated as `np.float64 == np.dtype(float).type`.\n",
      "  from ._conv import register_converters as _register_converters\n",
      "Using TensorFlow backend.\n"
     ]
    }
   ],
   "source": [
    "from __future__ import print_function\n",
    "from tf_utils import *\n",
    "\n",
    "import keras\n",
    "# from keras.datasets import mnist\n",
    "from keras.models import Sequential\n",
    "from keras.layers import Dense, Dropout, Flatten\n",
    "from keras.layers import Conv2D, MaxPooling2D\n",
    "from keras import backend as K"
   ]
  },
  {
   "cell_type": "code",
   "execution_count": 3,
   "metadata": {},
   "outputs": [
    {
     "name": "stdout",
     "output_type": "stream",
     "text": [
      "(277, 256, 562)\n",
      "(277,)\n",
      "(249, 256, 562)\n",
      "(28, 256, 562)\n",
      "(249,)\n",
      "(28,)\n"
     ]
    }
   ],
   "source": [
    "batch_size = 4\n",
    "num_classes = 2\n",
    "epochs = 100\n",
    "\n",
    "# load the data, split between train and test sets\n",
    "x_train, x_test, y_train, y_test = load_features_with_deltas_stacking_extend_maximum_fixed_size()"
   ]
  },
  {
   "cell_type": "code",
   "execution_count": 4,
   "metadata": {},
   "outputs": [],
   "source": [
    "# input image dimensions\n",
    "input_h = x_train.shape[1] #Height\n",
    "input_w = x_train.shape[2] #Width"
   ]
  },
  {
   "cell_type": "code",
   "execution_count": 5,
   "metadata": {},
   "outputs": [
    {
     "data": {
      "text/plain": [
       "256"
      ]
     },
     "execution_count": 5,
     "metadata": {},
     "output_type": "execute_result"
    }
   ],
   "source": [
    "input_h"
   ]
  },
  {
   "cell_type": "code",
   "execution_count": 6,
   "metadata": {},
   "outputs": [
    {
     "data": {
      "text/plain": [
       "562"
      ]
     },
     "execution_count": 6,
     "metadata": {},
     "output_type": "execute_result"
    }
   ],
   "source": [
    "input_w\n"
   ]
  },
  {
   "cell_type": "code",
   "execution_count": 7,
   "metadata": {},
   "outputs": [],
   "source": [
    "#Reshaping to feed to network\n",
    "x_train = x_train.reshape(x_train.shape[0], input_h, input_w, 1)\n",
    "x_test = x_test.reshape(x_test.shape[0], input_h, input_w, 1)\n",
    "input_shape = (input_h, input_w, 1)\n",
    "\n",
    "# convert class vectors to binary class matrices\n",
    "y_train = keras.utils.to_categorical(y_train, num_classes)\n",
    "y_test = keras.utils.to_categorical(y_test, num_classes)\n",
    "\n",
    "# iterate over different hyperparameters to finetune them\n",
    "# from the results in 10 epochs we can see that the other learning rates are just too big. \n",
    "# Hence only this one will be used\n",
    "learning_rate = 0.01\n",
    "dropout_rates = [0, 0.1, 0.2, 0.3, 0.4, 0.5]"
   ]
  },
  {
   "cell_type": "code",
   "execution_count": 8,
   "metadata": {
    "scrolled": false
   },
   "outputs": [
    {
     "name": "stdout",
     "output_type": "stream",
     "text": [
      "learning rate fixed at 0.01, dropout: 0\n",
      "\n",
      "WARNING:tensorflow:From C:\\ProgramData\\Anaconda3\\lib\\site-packages\\keras\\backend\\tensorflow_backend.py:1205: calling reduce_prod (from tensorflow.python.ops.math_ops) with keep_dims is deprecated and will be removed in a future version.\n",
      "Instructions for updating:\n",
      "keep_dims is deprecated, use keepdims instead\n",
      "WARNING:tensorflow:From C:\\ProgramData\\Anaconda3\\lib\\site-packages\\keras\\backend\\tensorflow_backend.py:2755: calling reduce_sum (from tensorflow.python.ops.math_ops) with keep_dims is deprecated and will be removed in a future version.\n",
      "Instructions for updating:\n",
      "keep_dims is deprecated, use keepdims instead\n",
      "WARNING:tensorflow:From C:\\ProgramData\\Anaconda3\\lib\\site-packages\\keras\\backend\\tensorflow_backend.py:1290: calling reduce_mean (from tensorflow.python.ops.math_ops) with keep_dims is deprecated and will be removed in a future version.\n",
      "Instructions for updating:\n",
      "keep_dims is deprecated, use keepdims instead\n",
      "Train on 224 samples, validate on 25 samples\n",
      "Epoch 1/100\n",
      "371s - loss: 6.6858 - acc: 0.5848 - val_loss: 5.1578 - val_acc: 0.6800\n",
      "Epoch 2/100\n",
      "389s - loss: 6.6919 - acc: 0.5848 - val_loss: 5.1578 - val_acc: 0.6800\n",
      "Epoch 3/100\n",
      "428s - loss: 6.6919 - acc: 0.5848 - val_loss: 5.1578 - val_acc: 0.6800\n",
      "Epoch 4/100\n",
      "415s - loss: 6.6919 - acc: 0.5848 - val_loss: 5.1578 - val_acc: 0.6800\n",
      "Epoch 5/100\n",
      "363s - loss: 6.6919 - acc: 0.5848 - val_loss: 5.1578 - val_acc: 0.6800\n",
      "Epoch 6/100\n",
      "360s - loss: 6.6919 - acc: 0.5848 - val_loss: 5.1578 - val_acc: 0.6800\n",
      "Epoch 7/100\n",
      "359s - loss: 6.6919 - acc: 0.5848 - val_loss: 5.1578 - val_acc: 0.6800\n",
      "Epoch 8/100\n",
      "358s - loss: 6.6919 - acc: 0.5848 - val_loss: 5.1578 - val_acc: 0.6800\n",
      "Epoch 9/100\n",
      "358s - loss: 6.6919 - acc: 0.5848 - val_loss: 5.1578 - val_acc: 0.6800\n",
      "Epoch 10/100\n",
      "359s - loss: 6.6919 - acc: 0.5848 - val_loss: 5.1578 - val_acc: 0.6800\n",
      "Epoch 11/100\n",
      "361s - loss: 6.6919 - acc: 0.5848 - val_loss: 5.1578 - val_acc: 0.6800\n",
      "Epoch 12/100\n",
      "359s - loss: 6.6919 - acc: 0.5848 - val_loss: 5.1578 - val_acc: 0.6800\n",
      "Epoch 13/100\n",
      "358s - loss: 6.6919 - acc: 0.5848 - val_loss: 5.1578 - val_acc: 0.6800\n",
      "Epoch 14/100\n",
      "358s - loss: 6.6919 - acc: 0.5848 - val_loss: 5.1578 - val_acc: 0.6800\n",
      "Epoch 15/100\n",
      "358s - loss: 6.6919 - acc: 0.5848 - val_loss: 5.1578 - val_acc: 0.6800\n",
      "Epoch 16/100\n",
      "359s - loss: 6.6919 - acc: 0.5848 - val_loss: 5.1578 - val_acc: 0.6800\n",
      "Epoch 17/100\n",
      "359s - loss: 6.6919 - acc: 0.5848 - val_loss: 5.1578 - val_acc: 0.6800\n",
      "Epoch 18/100\n",
      "358s - loss: 6.6919 - acc: 0.5848 - val_loss: 5.1578 - val_acc: 0.6800\n",
      "Epoch 19/100\n",
      "359s - loss: 6.6919 - acc: 0.5848 - val_loss: 5.1578 - val_acc: 0.6800\n",
      "Epoch 20/100\n",
      "358s - loss: 6.6919 - acc: 0.5848 - val_loss: 5.1578 - val_acc: 0.6800\n",
      "Epoch 21/100\n",
      "358s - loss: 6.6919 - acc: 0.5848 - val_loss: 5.1578 - val_acc: 0.6800\n",
      "Epoch 22/100\n",
      "359s - loss: 6.6919 - acc: 0.5848 - val_loss: 5.1578 - val_acc: 0.6800\n",
      "Epoch 23/100\n",
      "359s - loss: 6.6919 - acc: 0.5848 - val_loss: 5.1578 - val_acc: 0.6800\n",
      "Epoch 24/100\n",
      "359s - loss: 6.6919 - acc: 0.5848 - val_loss: 5.1578 - val_acc: 0.6800\n",
      "Epoch 25/100\n",
      "358s - loss: 6.6919 - acc: 0.5848 - val_loss: 5.1578 - val_acc: 0.6800\n",
      "Epoch 26/100\n",
      "359s - loss: 6.6919 - acc: 0.5848 - val_loss: 5.1578 - val_acc: 0.6800\n",
      "Epoch 27/100\n",
      "358s - loss: 6.6919 - acc: 0.5848 - val_loss: 5.1578 - val_acc: 0.6800\n",
      "Epoch 28/100\n",
      "358s - loss: 6.6919 - acc: 0.5848 - val_loss: 5.1578 - val_acc: 0.6800\n",
      "Epoch 29/100\n",
      "358s - loss: 6.6919 - acc: 0.5848 - val_loss: 5.1578 - val_acc: 0.6800\n",
      "Epoch 30/100\n",
      "358s - loss: 6.6919 - acc: 0.5848 - val_loss: 5.1578 - val_acc: 0.6800\n",
      "Epoch 31/100\n",
      "359s - loss: 6.6919 - acc: 0.5848 - val_loss: 5.1578 - val_acc: 0.6800\n",
      "Epoch 32/100\n",
      "359s - loss: 6.6919 - acc: 0.5848 - val_loss: 5.1578 - val_acc: 0.6800\n",
      "Epoch 33/100\n",
      "358s - loss: 6.6919 - acc: 0.5848 - val_loss: 5.1578 - val_acc: 0.6800\n",
      "Epoch 34/100\n",
      "359s - loss: 6.6919 - acc: 0.5848 - val_loss: 5.1578 - val_acc: 0.6800\n",
      "Epoch 35/100\n",
      "359s - loss: 6.6919 - acc: 0.5848 - val_loss: 5.1578 - val_acc: 0.6800\n",
      "Epoch 36/100\n",
      "359s - loss: 6.6919 - acc: 0.5848 - val_loss: 5.1578 - val_acc: 0.6800\n",
      "Epoch 37/100\n",
      "358s - loss: 6.6919 - acc: 0.5848 - val_loss: 5.1578 - val_acc: 0.6800\n",
      "Epoch 38/100\n",
      "358s - loss: 6.6919 - acc: 0.5848 - val_loss: 5.1578 - val_acc: 0.6800\n",
      "Epoch 39/100\n",
      "358s - loss: 6.6919 - acc: 0.5848 - val_loss: 5.1578 - val_acc: 0.6800\n",
      "Epoch 40/100\n",
      "359s - loss: 6.6919 - acc: 0.5848 - val_loss: 5.1578 - val_acc: 0.6800\n",
      "Epoch 41/100\n",
      "359s - loss: 6.6919 - acc: 0.5848 - val_loss: 5.1578 - val_acc: 0.6800\n",
      "Epoch 42/100\n",
      "358s - loss: 6.6919 - acc: 0.5848 - val_loss: 5.1578 - val_acc: 0.6800\n",
      "Epoch 43/100\n",
      "358s - loss: 6.6919 - acc: 0.5848 - val_loss: 5.1578 - val_acc: 0.6800\n",
      "Epoch 44/100\n",
      "359s - loss: 6.6919 - acc: 0.5848 - val_loss: 5.1578 - val_acc: 0.6800\n",
      "Epoch 45/100\n",
      "359s - loss: 6.6919 - acc: 0.5848 - val_loss: 5.1578 - val_acc: 0.6800\n",
      "Epoch 46/100\n",
      "359s - loss: 6.6919 - acc: 0.5848 - val_loss: 5.1578 - val_acc: 0.6800\n",
      "Epoch 47/100\n",
      "359s - loss: 6.6919 - acc: 0.5848 - val_loss: 5.1578 - val_acc: 0.6800\n",
      "Epoch 48/100\n",
      "358s - loss: 6.6919 - acc: 0.5848 - val_loss: 5.1578 - val_acc: 0.6800\n",
      "Epoch 49/100\n",
      "359s - loss: 6.6919 - acc: 0.5848 - val_loss: 5.1578 - val_acc: 0.6800\n",
      "Epoch 50/100\n",
      "359s - loss: 6.6919 - acc: 0.5848 - val_loss: 5.1578 - val_acc: 0.6800\n",
      "Epoch 51/100\n",
      "359s - loss: 6.6919 - acc: 0.5848 - val_loss: 5.1578 - val_acc: 0.6800\n",
      "Epoch 52/100\n",
      "359s - loss: 6.6919 - acc: 0.5848 - val_loss: 5.1578 - val_acc: 0.6800\n",
      "Epoch 53/100\n",
      "358s - loss: 6.6919 - acc: 0.5848 - val_loss: 5.1578 - val_acc: 0.6800\n",
      "Epoch 54/100\n",
      "358s - loss: 6.6919 - acc: 0.5848 - val_loss: 5.1578 - val_acc: 0.6800\n",
      "Epoch 55/100\n",
      "359s - loss: 6.6919 - acc: 0.5848 - val_loss: 5.1578 - val_acc: 0.6800\n",
      "Epoch 56/100\n",
      "359s - loss: 6.6919 - acc: 0.5848 - val_loss: 5.1578 - val_acc: 0.6800\n",
      "Epoch 57/100\n",
      "359s - loss: 6.6919 - acc: 0.5848 - val_loss: 5.1578 - val_acc: 0.6800\n",
      "Epoch 58/100\n",
      "359s - loss: 6.6919 - acc: 0.5848 - val_loss: 5.1578 - val_acc: 0.6800\n",
      "Epoch 59/100\n",
      "360s - loss: 6.6919 - acc: 0.5848 - val_loss: 5.1578 - val_acc: 0.6800\n",
      "Epoch 60/100\n",
      "359s - loss: 6.6919 - acc: 0.5848 - val_loss: 5.1578 - val_acc: 0.6800\n",
      "Epoch 61/100\n",
      "363s - loss: 6.6919 - acc: 0.5848 - val_loss: 5.1578 - val_acc: 0.6800\n",
      "Epoch 62/100\n",
      "360s - loss: 6.6919 - acc: 0.5848 - val_loss: 5.1578 - val_acc: 0.6800\n",
      "Epoch 63/100\n",
      "360s - loss: 6.6919 - acc: 0.5848 - val_loss: 5.1578 - val_acc: 0.6800\n",
      "Epoch 64/100\n",
      "361s - loss: 6.6919 - acc: 0.5848 - val_loss: 5.1578 - val_acc: 0.6800\n",
      "Epoch 65/100\n",
      "361s - loss: 6.6919 - acc: 0.5848 - val_loss: 5.1578 - val_acc: 0.6800\n",
      "Epoch 66/100\n",
      "361s - loss: 6.6919 - acc: 0.5848 - val_loss: 5.1578 - val_acc: 0.6800\n",
      "Epoch 67/100\n",
      "360s - loss: 6.6919 - acc: 0.5848 - val_loss: 5.1578 - val_acc: 0.6800\n",
      "Epoch 68/100\n",
      "360s - loss: 6.6919 - acc: 0.5848 - val_loss: 5.1578 - val_acc: 0.6800\n",
      "Epoch 69/100\n",
      "360s - loss: 6.6919 - acc: 0.5848 - val_loss: 5.1578 - val_acc: 0.6800\n",
      "Epoch 70/100\n",
      "360s - loss: 6.6919 - acc: 0.5848 - val_loss: 5.1578 - val_acc: 0.6800\n",
      "Epoch 71/100\n",
      "360s - loss: 6.6919 - acc: 0.5848 - val_loss: 5.1578 - val_acc: 0.6800\n",
      "Epoch 72/100\n",
      "360s - loss: 6.6919 - acc: 0.5848 - val_loss: 5.1578 - val_acc: 0.6800\n",
      "Epoch 73/100\n",
      "360s - loss: 6.6919 - acc: 0.5848 - val_loss: 5.1578 - val_acc: 0.6800\n",
      "Epoch 74/100\n",
      "366s - loss: 6.6919 - acc: 0.5848 - val_loss: 5.1578 - val_acc: 0.6800\n",
      "Epoch 75/100\n",
      "372s - loss: 6.6919 - acc: 0.5848 - val_loss: 5.1578 - val_acc: 0.6800\n",
      "Epoch 76/100\n",
      "363s - loss: 6.6919 - acc: 0.5848 - val_loss: 5.1578 - val_acc: 0.6800\n",
      "Epoch 77/100\n",
      "363s - loss: 6.6919 - acc: 0.5848 - val_loss: 5.1578 - val_acc: 0.6800\n",
      "Epoch 78/100\n",
      "363s - loss: 6.6919 - acc: 0.5848 - val_loss: 5.1578 - val_acc: 0.6800\n",
      "Epoch 79/100\n",
      "362s - loss: 6.6919 - acc: 0.5848 - val_loss: 5.1578 - val_acc: 0.6800\n",
      "Epoch 80/100\n",
      "363s - loss: 6.6919 - acc: 0.5848 - val_loss: 5.1578 - val_acc: 0.6800\n",
      "Epoch 81/100\n",
      "363s - loss: 6.6919 - acc: 0.5848 - val_loss: 5.1578 - val_acc: 0.6800\n",
      "Epoch 82/100\n",
      "363s - loss: 6.6919 - acc: 0.5848 - val_loss: 5.1578 - val_acc: 0.6800\n",
      "Epoch 83/100\n",
      "362s - loss: 6.6919 - acc: 0.5848 - val_loss: 5.1578 - val_acc: 0.6800\n",
      "Epoch 84/100\n",
      "363s - loss: 6.6919 - acc: 0.5848 - val_loss: 5.1578 - val_acc: 0.6800\n",
      "Epoch 85/100\n",
      "363s - loss: 6.6919 - acc: 0.5848 - val_loss: 5.1578 - val_acc: 0.6800\n",
      "Epoch 86/100\n",
      "363s - loss: 6.6919 - acc: 0.5848 - val_loss: 5.1578 - val_acc: 0.6800\n",
      "Epoch 87/100\n"
     ]
    },
    {
     "name": "stdout",
     "output_type": "stream",
     "text": [
      "363s - loss: 6.6919 - acc: 0.5848 - val_loss: 5.1578 - val_acc: 0.6800\n",
      "Epoch 88/100\n",
      "362s - loss: 6.6919 - acc: 0.5848 - val_loss: 5.1578 - val_acc: 0.6800\n",
      "Epoch 89/100\n",
      "363s - loss: 6.6919 - acc: 0.5848 - val_loss: 5.1578 - val_acc: 0.6800\n",
      "Epoch 90/100\n",
      "363s - loss: 6.6919 - acc: 0.5848 - val_loss: 5.1578 - val_acc: 0.6800\n",
      "Epoch 91/100\n",
      "363s - loss: 6.6919 - acc: 0.5848 - val_loss: 5.1578 - val_acc: 0.6800\n",
      "Epoch 92/100\n",
      "363s - loss: 6.6919 - acc: 0.5848 - val_loss: 5.1578 - val_acc: 0.6800\n",
      "Epoch 93/100\n",
      "362s - loss: 6.6919 - acc: 0.5848 - val_loss: 5.1578 - val_acc: 0.6800\n",
      "Epoch 94/100\n",
      "363s - loss: 6.6919 - acc: 0.5848 - val_loss: 5.1578 - val_acc: 0.6800\n",
      "Epoch 95/100\n",
      "363s - loss: 6.6919 - acc: 0.5848 - val_loss: 5.1578 - val_acc: 0.6800\n",
      "Epoch 96/100\n",
      "364s - loss: 6.6919 - acc: 0.5848 - val_loss: 5.1578 - val_acc: 0.6800\n",
      "Epoch 97/100\n",
      "363s - loss: 6.6919 - acc: 0.5848 - val_loss: 5.1578 - val_acc: 0.6800\n",
      "Epoch 98/100\n",
      "363s - loss: 6.6919 - acc: 0.5848 - val_loss: 5.1578 - val_acc: 0.6800\n",
      "Epoch 99/100\n",
      "363s - loss: 6.6919 - acc: 0.5848 - val_loss: 5.1578 - val_acc: 0.6800\n",
      "Epoch 100/100\n",
      "364s - loss: 6.6919 - acc: 0.5848 - val_loss: 5.1578 - val_acc: 0.6800\n",
      "Test loss: 6.907755374908447\n",
      "Test accuracy: 0.5714285969734192\n",
      "----------------------------------------------------\n",
      "\n",
      "learning rate fixed at 0.01, dropout: 0.1\n",
      "\n",
      "Train on 224 samples, validate on 25 samples\n",
      "Epoch 1/100\n",
      "363s - loss: 6.6919 - acc: 0.5848 - val_loss: 5.1578 - val_acc: 0.6800\n",
      "Epoch 2/100\n",
      "359s - loss: 6.6919 - acc: 0.5848 - val_loss: 5.1578 - val_acc: 0.6800\n",
      "Epoch 3/100\n",
      "359s - loss: 6.6919 - acc: 0.5848 - val_loss: 5.1578 - val_acc: 0.6800\n",
      "Epoch 4/100\n",
      "360s - loss: 6.6919 - acc: 0.5848 - val_loss: 5.1578 - val_acc: 0.6800\n",
      "Epoch 5/100\n",
      "359s - loss: 6.6919 - acc: 0.5848 - val_loss: 5.1578 - val_acc: 0.6800\n",
      "Epoch 6/100\n",
      "360s - loss: 6.6919 - acc: 0.5848 - val_loss: 5.1578 - val_acc: 0.6800\n",
      "Epoch 7/100\n",
      "364s - loss: 6.6919 - acc: 0.5848 - val_loss: 5.1578 - val_acc: 0.6800\n",
      "Epoch 8/100\n"
     ]
    },
    {
     "ename": "KeyboardInterrupt",
     "evalue": "",
     "output_type": "error",
     "traceback": [
      "\u001b[1;31m---------------------------------------------------------------------------\u001b[0m",
      "\u001b[1;31mKeyboardInterrupt\u001b[0m                         Traceback (most recent call last)",
      "\u001b[1;32m<ipython-input-8-211e6f2ad31e>\u001b[0m in \u001b[0;36m<module>\u001b[1;34m()\u001b[0m\n\u001b[0;32m     25\u001b[0m               \u001b[0mepochs\u001b[0m\u001b[1;33m=\u001b[0m\u001b[0mepochs\u001b[0m\u001b[1;33m,\u001b[0m\u001b[1;33m\u001b[0m\u001b[0m\n\u001b[0;32m     26\u001b[0m               \u001b[0mverbose\u001b[0m\u001b[1;33m=\u001b[0m\u001b[1;36m2\u001b[0m\u001b[1;33m,\u001b[0m\u001b[1;33m\u001b[0m\u001b[0m\n\u001b[1;32m---> 27\u001b[1;33m               validation_split=0.1)\n\u001b[0m\u001b[0;32m     28\u001b[0m     \u001b[0mscore\u001b[0m \u001b[1;33m=\u001b[0m \u001b[0mmodel\u001b[0m\u001b[1;33m.\u001b[0m\u001b[0mevaluate\u001b[0m\u001b[1;33m(\u001b[0m\u001b[0mx_test\u001b[0m\u001b[1;33m,\u001b[0m \u001b[0my_test\u001b[0m\u001b[1;33m,\u001b[0m \u001b[0mverbose\u001b[0m\u001b[1;33m=\u001b[0m\u001b[1;36m0\u001b[0m\u001b[1;33m)\u001b[0m\u001b[1;33m\u001b[0m\u001b[0m\n\u001b[0;32m     29\u001b[0m     \u001b[0mprint\u001b[0m\u001b[1;33m(\u001b[0m\u001b[1;34m'Test loss:'\u001b[0m\u001b[1;33m,\u001b[0m \u001b[0mscore\u001b[0m\u001b[1;33m[\u001b[0m\u001b[1;36m0\u001b[0m\u001b[1;33m]\u001b[0m\u001b[1;33m)\u001b[0m\u001b[1;33m\u001b[0m\u001b[0m\n",
      "\u001b[1;32mC:\\ProgramData\\Anaconda3\\lib\\site-packages\\keras\\models.py\u001b[0m in \u001b[0;36mfit\u001b[1;34m(self, x, y, batch_size, epochs, verbose, callbacks, validation_split, validation_data, shuffle, class_weight, sample_weight, initial_epoch, **kwargs)\u001b[0m\n\u001b[0;32m    865\u001b[0m                               \u001b[0mclass_weight\u001b[0m\u001b[1;33m=\u001b[0m\u001b[0mclass_weight\u001b[0m\u001b[1;33m,\u001b[0m\u001b[1;33m\u001b[0m\u001b[0m\n\u001b[0;32m    866\u001b[0m                               \u001b[0msample_weight\u001b[0m\u001b[1;33m=\u001b[0m\u001b[0msample_weight\u001b[0m\u001b[1;33m,\u001b[0m\u001b[1;33m\u001b[0m\u001b[0m\n\u001b[1;32m--> 867\u001b[1;33m                               initial_epoch=initial_epoch)\n\u001b[0m\u001b[0;32m    868\u001b[0m \u001b[1;33m\u001b[0m\u001b[0m\n\u001b[0;32m    869\u001b[0m     def evaluate(self, x, y, batch_size=32, verbose=1,\n",
      "\u001b[1;32mC:\\ProgramData\\Anaconda3\\lib\\site-packages\\keras\\engine\\training.py\u001b[0m in \u001b[0;36mfit\u001b[1;34m(self, x, y, batch_size, epochs, verbose, callbacks, validation_split, validation_data, shuffle, class_weight, sample_weight, initial_epoch, steps_per_epoch, validation_steps, **kwargs)\u001b[0m\n\u001b[0;32m   1596\u001b[0m                               \u001b[0minitial_epoch\u001b[0m\u001b[1;33m=\u001b[0m\u001b[0minitial_epoch\u001b[0m\u001b[1;33m,\u001b[0m\u001b[1;33m\u001b[0m\u001b[0m\n\u001b[0;32m   1597\u001b[0m                               \u001b[0msteps_per_epoch\u001b[0m\u001b[1;33m=\u001b[0m\u001b[0msteps_per_epoch\u001b[0m\u001b[1;33m,\u001b[0m\u001b[1;33m\u001b[0m\u001b[0m\n\u001b[1;32m-> 1598\u001b[1;33m                               validation_steps=validation_steps)\n\u001b[0m\u001b[0;32m   1599\u001b[0m \u001b[1;33m\u001b[0m\u001b[0m\n\u001b[0;32m   1600\u001b[0m     def evaluate(self, x, y,\n",
      "\u001b[1;32mC:\\ProgramData\\Anaconda3\\lib\\site-packages\\keras\\engine\\training.py\u001b[0m in \u001b[0;36m_fit_loop\u001b[1;34m(self, f, ins, out_labels, batch_size, epochs, verbose, callbacks, val_f, val_ins, shuffle, callback_metrics, initial_epoch, steps_per_epoch, validation_steps)\u001b[0m\n\u001b[0;32m   1181\u001b[0m                     \u001b[0mbatch_logs\u001b[0m\u001b[1;33m[\u001b[0m\u001b[1;34m'size'\u001b[0m\u001b[1;33m]\u001b[0m \u001b[1;33m=\u001b[0m \u001b[0mlen\u001b[0m\u001b[1;33m(\u001b[0m\u001b[0mbatch_ids\u001b[0m\u001b[1;33m)\u001b[0m\u001b[1;33m\u001b[0m\u001b[0m\n\u001b[0;32m   1182\u001b[0m                     \u001b[0mcallbacks\u001b[0m\u001b[1;33m.\u001b[0m\u001b[0mon_batch_begin\u001b[0m\u001b[1;33m(\u001b[0m\u001b[0mbatch_index\u001b[0m\u001b[1;33m,\u001b[0m \u001b[0mbatch_logs\u001b[0m\u001b[1;33m)\u001b[0m\u001b[1;33m\u001b[0m\u001b[0m\n\u001b[1;32m-> 1183\u001b[1;33m                     \u001b[0mouts\u001b[0m \u001b[1;33m=\u001b[0m \u001b[0mf\u001b[0m\u001b[1;33m(\u001b[0m\u001b[0mins_batch\u001b[0m\u001b[1;33m)\u001b[0m\u001b[1;33m\u001b[0m\u001b[0m\n\u001b[0m\u001b[0;32m   1184\u001b[0m                     \u001b[1;32mif\u001b[0m \u001b[1;32mnot\u001b[0m \u001b[0misinstance\u001b[0m\u001b[1;33m(\u001b[0m\u001b[0mouts\u001b[0m\u001b[1;33m,\u001b[0m \u001b[0mlist\u001b[0m\u001b[1;33m)\u001b[0m\u001b[1;33m:\u001b[0m\u001b[1;33m\u001b[0m\u001b[0m\n\u001b[0;32m   1185\u001b[0m                         \u001b[0mouts\u001b[0m \u001b[1;33m=\u001b[0m \u001b[1;33m[\u001b[0m\u001b[0mouts\u001b[0m\u001b[1;33m]\u001b[0m\u001b[1;33m\u001b[0m\u001b[0m\n",
      "\u001b[1;32mC:\\ProgramData\\Anaconda3\\lib\\site-packages\\keras\\backend\\tensorflow_backend.py\u001b[0m in \u001b[0;36m__call__\u001b[1;34m(self, inputs)\u001b[0m\n\u001b[0;32m   2271\u001b[0m         updated = session.run(self.outputs + [self.updates_op],\n\u001b[0;32m   2272\u001b[0m                               \u001b[0mfeed_dict\u001b[0m\u001b[1;33m=\u001b[0m\u001b[0mfeed_dict\u001b[0m\u001b[1;33m,\u001b[0m\u001b[1;33m\u001b[0m\u001b[0m\n\u001b[1;32m-> 2273\u001b[1;33m                               **self.session_kwargs)\n\u001b[0m\u001b[0;32m   2274\u001b[0m         \u001b[1;32mreturn\u001b[0m \u001b[0mupdated\u001b[0m\u001b[1;33m[\u001b[0m\u001b[1;33m:\u001b[0m\u001b[0mlen\u001b[0m\u001b[1;33m(\u001b[0m\u001b[0mself\u001b[0m\u001b[1;33m.\u001b[0m\u001b[0moutputs\u001b[0m\u001b[1;33m)\u001b[0m\u001b[1;33m]\u001b[0m\u001b[1;33m\u001b[0m\u001b[0m\n\u001b[0;32m   2275\u001b[0m \u001b[1;33m\u001b[0m\u001b[0m\n",
      "\u001b[1;32mC:\\ProgramData\\Anaconda3\\lib\\site-packages\\tensorflow\\python\\client\\session.py\u001b[0m in \u001b[0;36mrun\u001b[1;34m(self, fetches, feed_dict, options, run_metadata)\u001b[0m\n\u001b[0;32m    903\u001b[0m     \u001b[1;32mtry\u001b[0m\u001b[1;33m:\u001b[0m\u001b[1;33m\u001b[0m\u001b[0m\n\u001b[0;32m    904\u001b[0m       result = self._run(None, fetches, feed_dict, options_ptr,\n\u001b[1;32m--> 905\u001b[1;33m                          run_metadata_ptr)\n\u001b[0m\u001b[0;32m    906\u001b[0m       \u001b[1;32mif\u001b[0m \u001b[0mrun_metadata\u001b[0m\u001b[1;33m:\u001b[0m\u001b[1;33m\u001b[0m\u001b[0m\n\u001b[0;32m    907\u001b[0m         \u001b[0mproto_data\u001b[0m \u001b[1;33m=\u001b[0m \u001b[0mtf_session\u001b[0m\u001b[1;33m.\u001b[0m\u001b[0mTF_GetBuffer\u001b[0m\u001b[1;33m(\u001b[0m\u001b[0mrun_metadata_ptr\u001b[0m\u001b[1;33m)\u001b[0m\u001b[1;33m\u001b[0m\u001b[0m\n",
      "\u001b[1;32mC:\\ProgramData\\Anaconda3\\lib\\site-packages\\tensorflow\\python\\client\\session.py\u001b[0m in \u001b[0;36m_run\u001b[1;34m(self, handle, fetches, feed_dict, options, run_metadata)\u001b[0m\n\u001b[0;32m   1135\u001b[0m     \u001b[1;32mif\u001b[0m \u001b[0mfinal_fetches\u001b[0m \u001b[1;32mor\u001b[0m \u001b[0mfinal_targets\u001b[0m \u001b[1;32mor\u001b[0m \u001b[1;33m(\u001b[0m\u001b[0mhandle\u001b[0m \u001b[1;32mand\u001b[0m \u001b[0mfeed_dict_tensor\u001b[0m\u001b[1;33m)\u001b[0m\u001b[1;33m:\u001b[0m\u001b[1;33m\u001b[0m\u001b[0m\n\u001b[0;32m   1136\u001b[0m       results = self._do_run(handle, final_targets, final_fetches,\n\u001b[1;32m-> 1137\u001b[1;33m                              feed_dict_tensor, options, run_metadata)\n\u001b[0m\u001b[0;32m   1138\u001b[0m     \u001b[1;32melse\u001b[0m\u001b[1;33m:\u001b[0m\u001b[1;33m\u001b[0m\u001b[0m\n\u001b[0;32m   1139\u001b[0m       \u001b[0mresults\u001b[0m \u001b[1;33m=\u001b[0m \u001b[1;33m[\u001b[0m\u001b[1;33m]\u001b[0m\u001b[1;33m\u001b[0m\u001b[0m\n",
      "\u001b[1;32mC:\\ProgramData\\Anaconda3\\lib\\site-packages\\tensorflow\\python\\client\\session.py\u001b[0m in \u001b[0;36m_do_run\u001b[1;34m(self, handle, target_list, fetch_list, feed_dict, options, run_metadata)\u001b[0m\n\u001b[0;32m   1353\u001b[0m     \u001b[1;32mif\u001b[0m \u001b[0mhandle\u001b[0m \u001b[1;32mis\u001b[0m \u001b[1;32mNone\u001b[0m\u001b[1;33m:\u001b[0m\u001b[1;33m\u001b[0m\u001b[0m\n\u001b[0;32m   1354\u001b[0m       return self._do_call(_run_fn, self._session, feeds, fetches, targets,\n\u001b[1;32m-> 1355\u001b[1;33m                            options, run_metadata)\n\u001b[0m\u001b[0;32m   1356\u001b[0m     \u001b[1;32melse\u001b[0m\u001b[1;33m:\u001b[0m\u001b[1;33m\u001b[0m\u001b[0m\n\u001b[0;32m   1357\u001b[0m       \u001b[1;32mreturn\u001b[0m \u001b[0mself\u001b[0m\u001b[1;33m.\u001b[0m\u001b[0m_do_call\u001b[0m\u001b[1;33m(\u001b[0m\u001b[0m_prun_fn\u001b[0m\u001b[1;33m,\u001b[0m \u001b[0mself\u001b[0m\u001b[1;33m.\u001b[0m\u001b[0m_session\u001b[0m\u001b[1;33m,\u001b[0m \u001b[0mhandle\u001b[0m\u001b[1;33m,\u001b[0m \u001b[0mfeeds\u001b[0m\u001b[1;33m,\u001b[0m \u001b[0mfetches\u001b[0m\u001b[1;33m)\u001b[0m\u001b[1;33m\u001b[0m\u001b[0m\n",
      "\u001b[1;32mC:\\ProgramData\\Anaconda3\\lib\\site-packages\\tensorflow\\python\\client\\session.py\u001b[0m in \u001b[0;36m_do_call\u001b[1;34m(self, fn, *args)\u001b[0m\n\u001b[0;32m   1359\u001b[0m   \u001b[1;32mdef\u001b[0m \u001b[0m_do_call\u001b[0m\u001b[1;33m(\u001b[0m\u001b[0mself\u001b[0m\u001b[1;33m,\u001b[0m \u001b[0mfn\u001b[0m\u001b[1;33m,\u001b[0m \u001b[1;33m*\u001b[0m\u001b[0margs\u001b[0m\u001b[1;33m)\u001b[0m\u001b[1;33m:\u001b[0m\u001b[1;33m\u001b[0m\u001b[0m\n\u001b[0;32m   1360\u001b[0m     \u001b[1;32mtry\u001b[0m\u001b[1;33m:\u001b[0m\u001b[1;33m\u001b[0m\u001b[0m\n\u001b[1;32m-> 1361\u001b[1;33m       \u001b[1;32mreturn\u001b[0m \u001b[0mfn\u001b[0m\u001b[1;33m(\u001b[0m\u001b[1;33m*\u001b[0m\u001b[0margs\u001b[0m\u001b[1;33m)\u001b[0m\u001b[1;33m\u001b[0m\u001b[0m\n\u001b[0m\u001b[0;32m   1362\u001b[0m     \u001b[1;32mexcept\u001b[0m \u001b[0merrors\u001b[0m\u001b[1;33m.\u001b[0m\u001b[0mOpError\u001b[0m \u001b[1;32mas\u001b[0m \u001b[0me\u001b[0m\u001b[1;33m:\u001b[0m\u001b[1;33m\u001b[0m\u001b[0m\n\u001b[0;32m   1363\u001b[0m       \u001b[0mmessage\u001b[0m \u001b[1;33m=\u001b[0m \u001b[0mcompat\u001b[0m\u001b[1;33m.\u001b[0m\u001b[0mas_text\u001b[0m\u001b[1;33m(\u001b[0m\u001b[0me\u001b[0m\u001b[1;33m.\u001b[0m\u001b[0mmessage\u001b[0m\u001b[1;33m)\u001b[0m\u001b[1;33m\u001b[0m\u001b[0m\n",
      "\u001b[1;32mC:\\ProgramData\\Anaconda3\\lib\\site-packages\\tensorflow\\python\\client\\session.py\u001b[0m in \u001b[0;36m_run_fn\u001b[1;34m(session, feed_dict, fetch_list, target_list, options, run_metadata)\u001b[0m\n\u001b[0;32m   1338\u001b[0m         \u001b[1;32melse\u001b[0m\u001b[1;33m:\u001b[0m\u001b[1;33m\u001b[0m\u001b[0m\n\u001b[0;32m   1339\u001b[0m           return tf_session.TF_Run(session, options, feed_dict, fetch_list,\n\u001b[1;32m-> 1340\u001b[1;33m                                    target_list, status, run_metadata)\n\u001b[0m\u001b[0;32m   1341\u001b[0m \u001b[1;33m\u001b[0m\u001b[0m\n\u001b[0;32m   1342\u001b[0m     \u001b[1;32mdef\u001b[0m \u001b[0m_prun_fn\u001b[0m\u001b[1;33m(\u001b[0m\u001b[0msession\u001b[0m\u001b[1;33m,\u001b[0m \u001b[0mhandle\u001b[0m\u001b[1;33m,\u001b[0m \u001b[0mfeed_dict\u001b[0m\u001b[1;33m,\u001b[0m \u001b[0mfetch_list\u001b[0m\u001b[1;33m)\u001b[0m\u001b[1;33m:\u001b[0m\u001b[1;33m\u001b[0m\u001b[0m\n",
      "\u001b[1;31mKeyboardInterrupt\u001b[0m: "
     ]
    }
   ],
   "source": [
    "for dr in dropout_rates:\n",
    "\n",
    "    print('learning rate fixed at '+str(learning_rate)+', dropout: ' + str(dr) + '\\n')        \n",
    "    model = Sequential()\n",
    "    model.add(Conv2D(80, kernel_size=(57, 6),\n",
    "                     activation='relu',\n",
    "                     input_shape=input_shape))\n",
    "    model.add(MaxPooling2D(pool_size=(2, 2), strides=(2, 2)))\n",
    "    model.add(Conv2D(80, kernel_size=(1, 3), activation='relu'))\n",
    "    model.add(MaxPooling2D(pool_size=(8, 7), strides=(8, 7)))\n",
    "    model.add(Dropout(dr))\n",
    "    model.add(Flatten())\n",
    "    model.add(Dense(1024, activation='relu'))\n",
    "    model.add(Dropout(dr))\n",
    "    model.add(Dense(1024, activation='relu'))\n",
    "    model.add(Dropout(dr))\n",
    "    model.add(Dense(num_classes, activation='softmax'))\n",
    "\n",
    "    model.compile(loss=keras.losses.categorical_crossentropy,\n",
    "                  optimizer=keras.optimizers.Adam(lr=learning_rate),\n",
    "                  metrics=['accuracy'])\n",
    "\n",
    "    model.fit(x_train, y_train,\n",
    "              batch_size=batch_size,\n",
    "              epochs=epochs,\n",
    "              verbose=2,\n",
    "              validation_split=0.1)\n",
    "    score = model.evaluate(x_test, y_test, verbose=0)\n",
    "    print('Test loss:', score[0])\n",
    "    print('Test accuracy:', score[1])        \n",
    "\n",
    "    print('----------------------------------------------------\\n')    \n",
    "\n"
   ]
  },
  {
   "cell_type": "code",
   "execution_count": null,
   "metadata": {},
   "outputs": [],
   "source": []
  }
 ],
 "metadata": {
  "kernelspec": {
   "display_name": "Python 3",
   "language": "python",
   "name": "python3"
  },
  "language_info": {
   "codemirror_mode": {
    "name": "ipython",
    "version": 3
   },
   "file_extension": ".py",
   "mimetype": "text/x-python",
   "name": "python",
   "nbconvert_exporter": "python",
   "pygments_lexer": "ipython3",
   "version": "3.6.3"
  }
 },
 "nbformat": 4,
 "nbformat_minor": 2
}
